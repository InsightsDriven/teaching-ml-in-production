{
 "cells": [
  {
   "cell_type": "markdown",
   "metadata": {},
   "source": [
    "# MACHINE LEARNING IN PRODUCTION MADRID - BASELINE"
   ]
  },
  {
   "cell_type": "markdown",
   "metadata": {},
   "source": [
    "This is the baseline for the business case we've setup for the workshop. It is mainly a clusterization of the Spanish High Speed Rail dataset from Kaggle. We'll load this dataset that we've been building for months scrapping www.renfe.com (the official website for buying train tickets in Spain). Here is a link with the current version in Kaggle (we use to update it once a month):\n",
    "\n",
    "https://www.kaggle.com/thegurusteam/spanish-high-speed-rail-system-ticket-pricing"
   ]
  },
  {
   "cell_type": "markdown",
   "metadata": {},
   "source": [
    "## ETL"
   ]
  },
  {
   "cell_type": "markdown",
   "metadata": {},
   "source": [
    "We've made a dump from our database and we've converted into a parquet file to improve the loading times and overhead of a PostgreSQL connection."
   ]
  },
  {
   "cell_type": "code",
   "execution_count": 1,
   "metadata": {},
   "outputs": [
    {
     "data": {
      "text/html": [
       "<div>\n",
       "<style scoped>\n",
       "    .dataframe tbody tr th:only-of-type {\n",
       "        vertical-align: middle;\n",
       "    }\n",
       "\n",
       "    .dataframe tbody tr th {\n",
       "        vertical-align: top;\n",
       "    }\n",
       "\n",
       "    .dataframe thead th {\n",
       "        text-align: right;\n",
       "    }\n",
       "</style>\n",
       "<table border=\"1\" class=\"dataframe\">\n",
       "  <thead>\n",
       "    <tr style=\"text-align: right;\">\n",
       "      <th></th>\n",
       "      <th>insert_date</th>\n",
       "      <th>origin</th>\n",
       "      <th>destination</th>\n",
       "      <th>start_date</th>\n",
       "      <th>end_date</th>\n",
       "      <th>train_type</th>\n",
       "      <th>price</th>\n",
       "      <th>train_class</th>\n",
       "      <th>fare</th>\n",
       "    </tr>\n",
       "  </thead>\n",
       "  <tbody>\n",
       "    <tr>\n",
       "      <td>0</td>\n",
       "      <td>2019-08-21 03:42:10</td>\n",
       "      <td>SEVILLA</td>\n",
       "      <td>MADRID</td>\n",
       "      <td>2019-08-29 13:40:00</td>\n",
       "      <td>2019-08-29 16:10:00</td>\n",
       "      <td>AVE</td>\n",
       "      <td>47.30</td>\n",
       "      <td>Turista</td>\n",
       "      <td>Promo</td>\n",
       "    </tr>\n",
       "    <tr>\n",
       "      <td>1</td>\n",
       "      <td>2019-08-21 03:42:10</td>\n",
       "      <td>SEVILLA</td>\n",
       "      <td>MADRID</td>\n",
       "      <td>2019-08-29 14:45:00</td>\n",
       "      <td>2019-08-29 17:15:00</td>\n",
       "      <td>AVE</td>\n",
       "      <td>53.40</td>\n",
       "      <td>Turista</td>\n",
       "      <td>Promo</td>\n",
       "    </tr>\n",
       "    <tr>\n",
       "      <td>2</td>\n",
       "      <td>2019-08-21 03:42:10</td>\n",
       "      <td>SEVILLA</td>\n",
       "      <td>MADRID</td>\n",
       "      <td>2019-08-29 14:58:00</td>\n",
       "      <td>2019-08-29 17:50:00</td>\n",
       "      <td>ALVIA</td>\n",
       "      <td>NaN</td>\n",
       "      <td>Preferente</td>\n",
       "      <td>Promo</td>\n",
       "    </tr>\n",
       "    <tr>\n",
       "      <td>3</td>\n",
       "      <td>2019-08-21 03:42:10</td>\n",
       "      <td>SEVILLA</td>\n",
       "      <td>MADRID</td>\n",
       "      <td>2019-08-29 15:45:00</td>\n",
       "      <td>2019-08-29 18:15:00</td>\n",
       "      <td>AVE</td>\n",
       "      <td>61.45</td>\n",
       "      <td>Preferente</td>\n",
       "      <td>Promo</td>\n",
       "    </tr>\n",
       "    <tr>\n",
       "      <td>4</td>\n",
       "      <td>2019-08-21 03:42:10</td>\n",
       "      <td>SEVILLA</td>\n",
       "      <td>MADRID</td>\n",
       "      <td>2019-08-29 16:45:00</td>\n",
       "      <td>2019-08-29 19:17:00</td>\n",
       "      <td>AVE</td>\n",
       "      <td>60.30</td>\n",
       "      <td>Turista</td>\n",
       "      <td>Promo</td>\n",
       "    </tr>\n",
       "  </tbody>\n",
       "</table>\n",
       "</div>"
      ],
      "text/plain": [
       "          insert_date   origin destination          start_date  \\\n",
       "0 2019-08-21 03:42:10  SEVILLA      MADRID 2019-08-29 13:40:00   \n",
       "1 2019-08-21 03:42:10  SEVILLA      MADRID 2019-08-29 14:45:00   \n",
       "2 2019-08-21 03:42:10  SEVILLA      MADRID 2019-08-29 14:58:00   \n",
       "3 2019-08-21 03:42:10  SEVILLA      MADRID 2019-08-29 15:45:00   \n",
       "4 2019-08-21 03:42:10  SEVILLA      MADRID 2019-08-29 16:45:00   \n",
       "\n",
       "             end_date train_type  price train_class   fare  \n",
       "0 2019-08-29 16:10:00        AVE  47.30     Turista  Promo  \n",
       "1 2019-08-29 17:15:00        AVE  53.40     Turista  Promo  \n",
       "2 2019-08-29 17:50:00      ALVIA    NaN  Preferente  Promo  \n",
       "3 2019-08-29 18:15:00        AVE  61.45  Preferente  Promo  \n",
       "4 2019-08-29 19:17:00        AVE  60.30     Turista  Promo  "
      ]
     },
     "execution_count": 1,
     "metadata": {},
     "output_type": "execute_result"
    }
   ],
   "source": [
    "import pandas as pd\n",
    "\n",
    "df = pd.read_parquet('../data/raw/renfe.parquet')\n",
    "\n",
    "df.head()"
   ]
  },
  {
   "cell_type": "markdown",
   "metadata": {},
   "source": [
    "## Preprocessing"
   ]
  },
  {
   "cell_type": "markdown",
   "metadata": {},
   "source": [
    "### Null values"
   ]
  },
  {
   "cell_type": "code",
   "execution_count": 2,
   "metadata": {},
   "outputs": [
    {
     "name": "stdout",
     "output_type": "stream",
     "text": [
      "Dataset size: 10800510\n",
      "\n",
      "Percentage of null values:\n"
     ]
    },
    {
     "data": {
      "text/plain": [
       "insert_date    0.000000\n",
       "origin         0.000000\n",
       "destination    0.000000\n",
       "start_date     0.000000\n",
       "end_date       0.000000\n",
       "train_type     0.000000\n",
       "price          6.185439\n",
       "train_class    0.281070\n",
       "fare           0.281070\n",
       "dtype: float64"
      ]
     },
     "execution_count": 2,
     "metadata": {},
     "output_type": "execute_result"
    }
   ],
   "source": [
    "print(f'Dataset size: {len(df)}\\n')\n",
    "\n",
    "print('Percentage of null values:')\n",
    "df.isnull().sum() / len(df) * 100"
   ]
  },
  {
   "cell_type": "markdown",
   "metadata": {},
   "source": [
    "Since there is a few number of records with null values compared with the total dataset size, we can remove them to ease posterior analysis."
   ]
  },
  {
   "cell_type": "code",
   "execution_count": 3,
   "metadata": {},
   "outputs": [],
   "source": [
    "df.dropna(inplace=True)"
   ]
  },
  {
   "cell_type": "markdown",
   "metadata": {},
   "source": [
    "### Encoding"
   ]
  },
  {
   "cell_type": "markdown",
   "metadata": {},
   "source": [
    "We should encode the string columns as future algorithms can only handle numbers. We've used the OrdinalEncoder approach with no fixed order in columns as fare in which a certain ordering (from cheapest to most expensive could have influence). We've left it that way for the sake of simplicity."
   ]
  },
  {
   "cell_type": "code",
   "execution_count": 4,
   "metadata": {},
   "outputs": [
    {
     "data": {
      "text/html": [
       "<div>\n",
       "<style scoped>\n",
       "    .dataframe tbody tr th:only-of-type {\n",
       "        vertical-align: middle;\n",
       "    }\n",
       "\n",
       "    .dataframe tbody tr th {\n",
       "        vertical-align: top;\n",
       "    }\n",
       "\n",
       "    .dataframe thead th {\n",
       "        text-align: right;\n",
       "    }\n",
       "</style>\n",
       "<table border=\"1\" class=\"dataframe\">\n",
       "  <thead>\n",
       "    <tr style=\"text-align: right;\">\n",
       "      <th></th>\n",
       "      <th>insert_date</th>\n",
       "      <th>origin</th>\n",
       "      <th>destination</th>\n",
       "      <th>start_date</th>\n",
       "      <th>end_date</th>\n",
       "      <th>train_type</th>\n",
       "      <th>price</th>\n",
       "      <th>train_class</th>\n",
       "      <th>fare</th>\n",
       "    </tr>\n",
       "  </thead>\n",
       "  <tbody>\n",
       "    <tr>\n",
       "      <td>0</td>\n",
       "      <td>2019-08-21 03:42:10</td>\n",
       "      <td>4.0</td>\n",
       "      <td>2.0</td>\n",
       "      <td>2019-08-29 13:40:00</td>\n",
       "      <td>2019-08-29 16:10:00</td>\n",
       "      <td>2.0</td>\n",
       "      <td>47.30</td>\n",
       "      <td>4.0</td>\n",
       "      <td>8.0</td>\n",
       "    </tr>\n",
       "    <tr>\n",
       "      <td>1</td>\n",
       "      <td>2019-08-21 03:42:10</td>\n",
       "      <td>4.0</td>\n",
       "      <td>2.0</td>\n",
       "      <td>2019-08-29 14:45:00</td>\n",
       "      <td>2019-08-29 17:15:00</td>\n",
       "      <td>2.0</td>\n",
       "      <td>53.40</td>\n",
       "      <td>4.0</td>\n",
       "      <td>8.0</td>\n",
       "    </tr>\n",
       "    <tr>\n",
       "      <td>3</td>\n",
       "      <td>2019-08-21 03:42:10</td>\n",
       "      <td>4.0</td>\n",
       "      <td>2.0</td>\n",
       "      <td>2019-08-29 15:45:00</td>\n",
       "      <td>2019-08-29 18:15:00</td>\n",
       "      <td>2.0</td>\n",
       "      <td>61.45</td>\n",
       "      <td>2.0</td>\n",
       "      <td>8.0</td>\n",
       "    </tr>\n",
       "    <tr>\n",
       "      <td>4</td>\n",
       "      <td>2019-08-21 03:42:10</td>\n",
       "      <td>4.0</td>\n",
       "      <td>2.0</td>\n",
       "      <td>2019-08-29 16:45:00</td>\n",
       "      <td>2019-08-29 19:17:00</td>\n",
       "      <td>2.0</td>\n",
       "      <td>60.30</td>\n",
       "      <td>4.0</td>\n",
       "      <td>8.0</td>\n",
       "    </tr>\n",
       "    <tr>\n",
       "      <td>5</td>\n",
       "      <td>2019-08-21 03:42:10</td>\n",
       "      <td>4.0</td>\n",
       "      <td>2.0</td>\n",
       "      <td>2019-08-29 17:45:00</td>\n",
       "      <td>2019-08-29 20:17:00</td>\n",
       "      <td>2.0</td>\n",
       "      <td>60.30</td>\n",
       "      <td>4.0</td>\n",
       "      <td>8.0</td>\n",
       "    </tr>\n",
       "  </tbody>\n",
       "</table>\n",
       "</div>"
      ],
      "text/plain": [
       "          insert_date  origin  destination          start_date  \\\n",
       "0 2019-08-21 03:42:10     4.0          2.0 2019-08-29 13:40:00   \n",
       "1 2019-08-21 03:42:10     4.0          2.0 2019-08-29 14:45:00   \n",
       "3 2019-08-21 03:42:10     4.0          2.0 2019-08-29 15:45:00   \n",
       "4 2019-08-21 03:42:10     4.0          2.0 2019-08-29 16:45:00   \n",
       "5 2019-08-21 03:42:10     4.0          2.0 2019-08-29 17:45:00   \n",
       "\n",
       "             end_date  train_type  price  train_class  fare  \n",
       "0 2019-08-29 16:10:00         2.0  47.30          4.0   8.0  \n",
       "1 2019-08-29 17:15:00         2.0  53.40          4.0   8.0  \n",
       "3 2019-08-29 18:15:00         2.0  61.45          2.0   8.0  \n",
       "4 2019-08-29 19:17:00         2.0  60.30          4.0   8.0  \n",
       "5 2019-08-29 20:17:00         2.0  60.30          4.0   8.0  "
      ]
     },
     "execution_count": 4,
     "metadata": {},
     "output_type": "execute_result"
    }
   ],
   "source": [
    "from sklearn.preprocessing import OrdinalEncoder\n",
    "\n",
    "encoder_m = OrdinalEncoder()\n",
    "\n",
    "columns_to_encode = ['origin', 'destination', 'train_type', 'train_class', 'fare']\n",
    "df.loc[:, columns_to_encode] = encoder_m.fit_transform(df[columns_to_encode])\n",
    "\n",
    "df.head()"
   ]
  },
  {
   "cell_type": "markdown",
   "metadata": {},
   "source": [
    "### Feature Engineering"
   ]
  },
  {
   "cell_type": "markdown",
   "metadata": {},
   "source": [
    "The main task here is to extract the datetime columns info into numbers (duration, time to departure...)."
   ]
  },
  {
   "cell_type": "code",
   "execution_count": 5,
   "metadata": {},
   "outputs": [
    {
     "data": {
      "text/html": [
       "<div>\n",
       "<style scoped>\n",
       "    .dataframe tbody tr th:only-of-type {\n",
       "        vertical-align: middle;\n",
       "    }\n",
       "\n",
       "    .dataframe tbody tr th {\n",
       "        vertical-align: top;\n",
       "    }\n",
       "\n",
       "    .dataframe thead th {\n",
       "        text-align: right;\n",
       "    }\n",
       "</style>\n",
       "<table border=\"1\" class=\"dataframe\">\n",
       "  <thead>\n",
       "    <tr style=\"text-align: right;\">\n",
       "      <th></th>\n",
       "      <th>insert_date</th>\n",
       "      <th>origin</th>\n",
       "      <th>destination</th>\n",
       "      <th>start_date</th>\n",
       "      <th>end_date</th>\n",
       "      <th>train_type</th>\n",
       "      <th>price</th>\n",
       "      <th>train_class</th>\n",
       "      <th>fare</th>\n",
       "      <th>duration</th>\n",
       "      <th>time_to_departure</th>\n",
       "      <th>hour</th>\n",
       "      <th>weekday</th>\n",
       "    </tr>\n",
       "  </thead>\n",
       "  <tbody>\n",
       "    <tr>\n",
       "      <td>0</td>\n",
       "      <td>2019-08-21 03:42:10</td>\n",
       "      <td>4.0</td>\n",
       "      <td>2.0</td>\n",
       "      <td>2019-08-29 13:40:00</td>\n",
       "      <td>2019-08-29 16:10:00</td>\n",
       "      <td>2.0</td>\n",
       "      <td>47.30</td>\n",
       "      <td>4.0</td>\n",
       "      <td>8.0</td>\n",
       "      <td>2.500000</td>\n",
       "      <td>8</td>\n",
       "      <td>13</td>\n",
       "      <td>3</td>\n",
       "    </tr>\n",
       "    <tr>\n",
       "      <td>1</td>\n",
       "      <td>2019-08-21 03:42:10</td>\n",
       "      <td>4.0</td>\n",
       "      <td>2.0</td>\n",
       "      <td>2019-08-29 14:45:00</td>\n",
       "      <td>2019-08-29 17:15:00</td>\n",
       "      <td>2.0</td>\n",
       "      <td>53.40</td>\n",
       "      <td>4.0</td>\n",
       "      <td>8.0</td>\n",
       "      <td>2.500000</td>\n",
       "      <td>8</td>\n",
       "      <td>14</td>\n",
       "      <td>3</td>\n",
       "    </tr>\n",
       "    <tr>\n",
       "      <td>3</td>\n",
       "      <td>2019-08-21 03:42:10</td>\n",
       "      <td>4.0</td>\n",
       "      <td>2.0</td>\n",
       "      <td>2019-08-29 15:45:00</td>\n",
       "      <td>2019-08-29 18:15:00</td>\n",
       "      <td>2.0</td>\n",
       "      <td>61.45</td>\n",
       "      <td>2.0</td>\n",
       "      <td>8.0</td>\n",
       "      <td>2.500000</td>\n",
       "      <td>8</td>\n",
       "      <td>15</td>\n",
       "      <td>3</td>\n",
       "    </tr>\n",
       "    <tr>\n",
       "      <td>4</td>\n",
       "      <td>2019-08-21 03:42:10</td>\n",
       "      <td>4.0</td>\n",
       "      <td>2.0</td>\n",
       "      <td>2019-08-29 16:45:00</td>\n",
       "      <td>2019-08-29 19:17:00</td>\n",
       "      <td>2.0</td>\n",
       "      <td>60.30</td>\n",
       "      <td>4.0</td>\n",
       "      <td>8.0</td>\n",
       "      <td>2.533333</td>\n",
       "      <td>8</td>\n",
       "      <td>16</td>\n",
       "      <td>3</td>\n",
       "    </tr>\n",
       "    <tr>\n",
       "      <td>5</td>\n",
       "      <td>2019-08-21 03:42:10</td>\n",
       "      <td>4.0</td>\n",
       "      <td>2.0</td>\n",
       "      <td>2019-08-29 17:45:00</td>\n",
       "      <td>2019-08-29 20:17:00</td>\n",
       "      <td>2.0</td>\n",
       "      <td>60.30</td>\n",
       "      <td>4.0</td>\n",
       "      <td>8.0</td>\n",
       "      <td>2.533333</td>\n",
       "      <td>8</td>\n",
       "      <td>17</td>\n",
       "      <td>3</td>\n",
       "    </tr>\n",
       "  </tbody>\n",
       "</table>\n",
       "</div>"
      ],
      "text/plain": [
       "          insert_date  origin  destination          start_date  \\\n",
       "0 2019-08-21 03:42:10     4.0          2.0 2019-08-29 13:40:00   \n",
       "1 2019-08-21 03:42:10     4.0          2.0 2019-08-29 14:45:00   \n",
       "3 2019-08-21 03:42:10     4.0          2.0 2019-08-29 15:45:00   \n",
       "4 2019-08-21 03:42:10     4.0          2.0 2019-08-29 16:45:00   \n",
       "5 2019-08-21 03:42:10     4.0          2.0 2019-08-29 17:45:00   \n",
       "\n",
       "             end_date  train_type  price  train_class  fare  duration  \\\n",
       "0 2019-08-29 16:10:00         2.0  47.30          4.0   8.0  2.500000   \n",
       "1 2019-08-29 17:15:00         2.0  53.40          4.0   8.0  2.500000   \n",
       "3 2019-08-29 18:15:00         2.0  61.45          2.0   8.0  2.500000   \n",
       "4 2019-08-29 19:17:00         2.0  60.30          4.0   8.0  2.533333   \n",
       "5 2019-08-29 20:17:00         2.0  60.30          4.0   8.0  2.533333   \n",
       "\n",
       "   time_to_departure  hour  weekday  \n",
       "0                  8    13        3  \n",
       "1                  8    14        3  \n",
       "3                  8    15        3  \n",
       "4                  8    16        3  \n",
       "5                  8    17        3  "
      ]
     },
     "execution_count": 5,
     "metadata": {},
     "output_type": "execute_result"
    }
   ],
   "source": [
    "df['duration'] = (df['end_date'] - df['start_date']).dt.seconds / 3600\n",
    "\n",
    "df['time_to_departure'] = (df['start_date'].dt.tz_localize('Europe/Madrid').dt.tz_convert('UTC') \\\n",
    "                           - df['insert_date'].dt.tz_localize('UTC')).dt.days\n",
    "\n",
    "df['hour'] = df['start_date'].dt.hour\n",
    "\n",
    "df['weekday'] = df['start_date'].dt.dayofweek\n",
    "\n",
    "df.head()"
   ]
  },
  {
   "cell_type": "markdown",
   "metadata": {},
   "source": [
    "Thus, we can remove these columns as the posterior algorithms don't know how to handle them."
   ]
  },
  {
   "cell_type": "code",
   "execution_count": 6,
   "metadata": {},
   "outputs": [
    {
     "data": {
      "text/html": [
       "<div>\n",
       "<style scoped>\n",
       "    .dataframe tbody tr th:only-of-type {\n",
       "        vertical-align: middle;\n",
       "    }\n",
       "\n",
       "    .dataframe tbody tr th {\n",
       "        vertical-align: top;\n",
       "    }\n",
       "\n",
       "    .dataframe thead th {\n",
       "        text-align: right;\n",
       "    }\n",
       "</style>\n",
       "<table border=\"1\" class=\"dataframe\">\n",
       "  <thead>\n",
       "    <tr style=\"text-align: right;\">\n",
       "      <th></th>\n",
       "      <th>origin</th>\n",
       "      <th>destination</th>\n",
       "      <th>train_type</th>\n",
       "      <th>price</th>\n",
       "      <th>train_class</th>\n",
       "      <th>fare</th>\n",
       "      <th>duration</th>\n",
       "      <th>time_to_departure</th>\n",
       "      <th>hour</th>\n",
       "      <th>weekday</th>\n",
       "    </tr>\n",
       "  </thead>\n",
       "  <tbody>\n",
       "    <tr>\n",
       "      <td>0</td>\n",
       "      <td>4.0</td>\n",
       "      <td>2.0</td>\n",
       "      <td>2.0</td>\n",
       "      <td>47.30</td>\n",
       "      <td>4.0</td>\n",
       "      <td>8.0</td>\n",
       "      <td>2.500000</td>\n",
       "      <td>8</td>\n",
       "      <td>13</td>\n",
       "      <td>3</td>\n",
       "    </tr>\n",
       "    <tr>\n",
       "      <td>1</td>\n",
       "      <td>4.0</td>\n",
       "      <td>2.0</td>\n",
       "      <td>2.0</td>\n",
       "      <td>53.40</td>\n",
       "      <td>4.0</td>\n",
       "      <td>8.0</td>\n",
       "      <td>2.500000</td>\n",
       "      <td>8</td>\n",
       "      <td>14</td>\n",
       "      <td>3</td>\n",
       "    </tr>\n",
       "    <tr>\n",
       "      <td>3</td>\n",
       "      <td>4.0</td>\n",
       "      <td>2.0</td>\n",
       "      <td>2.0</td>\n",
       "      <td>61.45</td>\n",
       "      <td>2.0</td>\n",
       "      <td>8.0</td>\n",
       "      <td>2.500000</td>\n",
       "      <td>8</td>\n",
       "      <td>15</td>\n",
       "      <td>3</td>\n",
       "    </tr>\n",
       "    <tr>\n",
       "      <td>4</td>\n",
       "      <td>4.0</td>\n",
       "      <td>2.0</td>\n",
       "      <td>2.0</td>\n",
       "      <td>60.30</td>\n",
       "      <td>4.0</td>\n",
       "      <td>8.0</td>\n",
       "      <td>2.533333</td>\n",
       "      <td>8</td>\n",
       "      <td>16</td>\n",
       "      <td>3</td>\n",
       "    </tr>\n",
       "    <tr>\n",
       "      <td>5</td>\n",
       "      <td>4.0</td>\n",
       "      <td>2.0</td>\n",
       "      <td>2.0</td>\n",
       "      <td>60.30</td>\n",
       "      <td>4.0</td>\n",
       "      <td>8.0</td>\n",
       "      <td>2.533333</td>\n",
       "      <td>8</td>\n",
       "      <td>17</td>\n",
       "      <td>3</td>\n",
       "    </tr>\n",
       "  </tbody>\n",
       "</table>\n",
       "</div>"
      ],
      "text/plain": [
       "   origin  destination  train_type  price  train_class  fare  duration  \\\n",
       "0     4.0          2.0         2.0  47.30          4.0   8.0  2.500000   \n",
       "1     4.0          2.0         2.0  53.40          4.0   8.0  2.500000   \n",
       "3     4.0          2.0         2.0  61.45          2.0   8.0  2.500000   \n",
       "4     4.0          2.0         2.0  60.30          4.0   8.0  2.533333   \n",
       "5     4.0          2.0         2.0  60.30          4.0   8.0  2.533333   \n",
       "\n",
       "   time_to_departure  hour  weekday  \n",
       "0                  8    13        3  \n",
       "1                  8    14        3  \n",
       "3                  8    15        3  \n",
       "4                  8    16        3  \n",
       "5                  8    17        3  "
      ]
     },
     "execution_count": 6,
     "metadata": {},
     "output_type": "execute_result"
    }
   ],
   "source": [
    "columns_to_remove = ['insert_date', 'start_date', 'end_date']\n",
    "df = df[[x for x in df.columns if x not in columns_to_remove]]\n",
    "\n",
    "df.head()"
   ]
  },
  {
   "cell_type": "markdown",
   "metadata": {},
   "source": [
    "### UMAP"
   ]
  },
  {
   "cell_type": "markdown",
   "metadata": {},
   "source": [
    "In order to visualize the posterior clusterization, we've made an UMAP projection over 2D with a small set of our dataset."
   ]
  },
  {
   "cell_type": "code",
   "execution_count": 7,
   "metadata": {},
   "outputs": [
    {
     "data": {
      "text/html": [
       "<div>\n",
       "<style scoped>\n",
       "    .dataframe tbody tr th:only-of-type {\n",
       "        vertical-align: middle;\n",
       "    }\n",
       "\n",
       "    .dataframe tbody tr th {\n",
       "        vertical-align: top;\n",
       "    }\n",
       "\n",
       "    .dataframe thead th {\n",
       "        text-align: right;\n",
       "    }\n",
       "</style>\n",
       "<table border=\"1\" class=\"dataframe\">\n",
       "  <thead>\n",
       "    <tr style=\"text-align: right;\">\n",
       "      <th></th>\n",
       "      <th>x</th>\n",
       "      <th>y</th>\n",
       "    </tr>\n",
       "  </thead>\n",
       "  <tbody>\n",
       "    <tr>\n",
       "      <td>0</td>\n",
       "      <td>-2.046220</td>\n",
       "      <td>-3.009452</td>\n",
       "    </tr>\n",
       "    <tr>\n",
       "      <td>1</td>\n",
       "      <td>-3.559751</td>\n",
       "      <td>12.496255</td>\n",
       "    </tr>\n",
       "    <tr>\n",
       "      <td>2</td>\n",
       "      <td>-2.933941</td>\n",
       "      <td>-6.047703</td>\n",
       "    </tr>\n",
       "    <tr>\n",
       "      <td>3</td>\n",
       "      <td>15.188833</td>\n",
       "      <td>3.740645</td>\n",
       "    </tr>\n",
       "    <tr>\n",
       "      <td>4</td>\n",
       "      <td>-1.575144</td>\n",
       "      <td>-10.619226</td>\n",
       "    </tr>\n",
       "  </tbody>\n",
       "</table>\n",
       "</div>"
      ],
      "text/plain": [
       "           x          y\n",
       "0  -2.046220  -3.009452\n",
       "1  -3.559751  12.496255\n",
       "2  -2.933941  -6.047703\n",
       "3  15.188833   3.740645\n",
       "4  -1.575144 -10.619226"
      ]
     },
     "execution_count": 7,
     "metadata": {},
     "output_type": "execute_result"
    }
   ],
   "source": [
    "import warnings\n",
    "from umap import UMAP\n",
    "\n",
    "df_umap = df.sample(10000, random_state=42)\n",
    "\n",
    "with warnings.catch_warnings():\n",
    "    warnings.simplefilter('ignore')\n",
    "\n",
    "    umap_m = UMAP(random_state=42)\n",
    "    df_embedding = pd.DataFrame(umap_m.fit_transform(df_umap), columns=['x', 'y'])\n",
    "\n",
    "df_embedding.head()"
   ]
  },
  {
   "cell_type": "code",
   "execution_count": 8,
   "metadata": {},
   "outputs": [
    {
     "data": {
      "image/png": "[encoded data removed]",
      "text/plain": [
       "<Figure size 432x288 with 1 Axes>"
      ]
     },
     "metadata": {
      "needs_background": "light"
     },
     "output_type": "display_data"
    }
   ],
   "source": [
    "import matplotlib.pyplot as plt\n",
    "\n",
    "%matplotlib inline\n",
    "\n",
    "plt.scatter(x=df_embedding['x'], y=df_embedding['y']);"
   ]
  },
  {
   "cell_type": "markdown",
   "metadata": {},
   "source": [
    "### Save Dataset"
   ]
  },
  {
   "cell_type": "markdown",
   "metadata": {},
   "source": [
    "This is a good checkpoint to save this preprocessing as the feature engineering has finished here and now we're going to tune the model."
   ]
  },
  {
   "cell_type": "code",
   "execution_count": 9,
   "metadata": {},
   "outputs": [],
   "source": [
    "output_folder = '../output/processed'\n",
    "\n",
    "!if [ ! -d $output_folder ]; then mkdir -p $output_folder; fi\n",
    "\n",
    "df_embedding.to_parquet(f'{output_folder}/embedding.parquet')"
   ]
  },
  {
   "cell_type": "markdown",
   "metadata": {},
   "source": [
    "## Clustering"
   ]
  },
  {
   "cell_type": "markdown",
   "metadata": {},
   "source": [
    "A density based model has been chosen for doing the clustering due to the irregular shapes coming from UMAP projection. Here algorithms like KMeans would perform badly as we'll see in following lessons."
   ]
  },
  {
   "cell_type": "markdown",
   "metadata": {},
   "source": [
    "### HDBSCAN"
   ]
  },
  {
   "cell_type": "code",
   "execution_count": 10,
   "metadata": {},
   "outputs": [
    {
     "name": "stderr",
     "output_type": "stream",
     "text": [
      "/home/ubuntu/miniconda3/envs/mlinproduction_env/lib/python3.7/site-packages/sklearn/externals/six.py:31: DeprecationWarning: The module is deprecated in version 0.21 and will be removed in version 0.23 since we've dropped support for Python 2.7. Please rely on the official version of six (https://pypi.org/project/six/).\n",
      "  \"(https://pypi.org/project/six/).\", DeprecationWarning)\n",
      "/home/ubuntu/miniconda3/envs/mlinproduction_env/lib/python3.7/site-packages/sklearn/externals/joblib/__init__.py:15: DeprecationWarning: sklearn.externals.joblib is deprecated in 0.21 and will be removed in 0.23. Please import this functionality directly from joblib, which can be installed with: pip install joblib. If this warning is raised when loading pickled models, you may need to re-serialize those models with scikit-learn 0.21+.\n",
      "  warnings.warn(msg, category=DeprecationWarning)\n"
     ]
    },
    {
     "name": "stdout",
     "output_type": "stream",
     "text": [
      "Cluster Ids: [-1  0  1  2  3  4  5  6  7  8  9 10 11]\n"
     ]
    }
   ],
   "source": [
    "import numpy as np\n",
    "from hdbscan import HDBSCAN\n",
    "    \n",
    "hdbscan_m = HDBSCAN(min_cluster_size=50, \n",
    "                    metric='euclidean', \n",
    "                    prediction_data=True)\n",
    "\n",
    "clustering = hdbscan_m.fit_predict(df_embedding)\n",
    "\n",
    "print(f'Cluster Ids: {np.sort(np.unique(clustering))}')"
   ]
  },
  {
   "cell_type": "markdown",
   "metadata": {},
   "source": [
    "## Results"
   ]
  },
  {
   "cell_type": "markdown",
   "metadata": {},
   "source": [
    "As output from the clustering we've selected 2 variables: the total number of clusters that HDBSCAN has found and the number of points that HDBSCAN has decided not to include in one of them."
   ]
  },
  {
   "cell_type": "code",
   "execution_count": 11,
   "metadata": {},
   "outputs": [
    {
     "name": "stdout",
     "output_type": "stream",
     "text": [
      "Number of Clusters: 12\n",
      "Noise: 133\n"
     ]
    }
   ],
   "source": [
    "number_of_clusters = len(np.unique(clustering[clustering != -1]))\n",
    "print(f'Number of Clusters: {number_of_clusters}')\n",
    "\n",
    "number_of_outliers = len(clustering[clustering == -1])\n",
    "print(f'Noise: {number_of_outliers}')"
   ]
  },
  {
   "cell_type": "code",
   "execution_count": 12,
   "metadata": {},
   "outputs": [
    {
     "data": {
      "image/png": "[encoded data removed]",
      "text/plain": [
       "<Figure size 432x288 with 1 Axes>"
      ]
     },
     "metadata": {
      "needs_background": "light"
     },
     "output_type": "display_data"
    }
   ],
   "source": [
    "fig, ax = plt.subplots()\n",
    "\n",
    "scatter = ax.scatter(x=df_embedding['x'], \n",
    "                     y=df_embedding['y'],\n",
    "                     c=clustering)\n",
    "legend = ax.legend(*scatter.legend_elements(num=number_of_clusters), \n",
    "                   title='Clusters', \n",
    "                   loc='upper right', \n",
    "                   bbox_to_anchor=(1.25,1.0))\n",
    "ax.add_artist(legend);\n",
    "\n",
    "output_folder = '../output/figures'\n",
    "\n",
    "!if [ ! -d $output_folder ]; then mkdir -p $output_folder; fi\n",
    "\n",
    "plt.show()\n",
    "plt.savefig(f'{output_folder}/baseline.png')\n",
    "plt.close()"
   ]
  },
  {
   "cell_type": "markdown",
   "metadata": {},
   "source": [
    "In order to see how these records have been clustered together, we'll inverse transform the dataset and select the records from one cluster."
   ]
  },
  {
   "cell_type": "code",
   "execution_count": 13,
   "metadata": {},
   "outputs": [
    {
     "data": {
      "text/html": [
       "<div>\n",
       "<style scoped>\n",
       "    .dataframe tbody tr th:only-of-type {\n",
       "        vertical-align: middle;\n",
       "    }\n",
       "\n",
       "    .dataframe tbody tr th {\n",
       "        vertical-align: top;\n",
       "    }\n",
       "\n",
       "    .dataframe thead th {\n",
       "        text-align: right;\n",
       "    }\n",
       "</style>\n",
       "<table border=\"1\" class=\"dataframe\">\n",
       "  <thead>\n",
       "    <tr style=\"text-align: right;\">\n",
       "      <th></th>\n",
       "      <th>origin</th>\n",
       "      <th>destination</th>\n",
       "      <th>train_type</th>\n",
       "      <th>price</th>\n",
       "      <th>train_class</th>\n",
       "      <th>fare</th>\n",
       "      <th>duration</th>\n",
       "      <th>time_to_departure</th>\n",
       "      <th>hour</th>\n",
       "      <th>weekday</th>\n",
       "    </tr>\n",
       "  </thead>\n",
       "  <tbody>\n",
       "    <tr>\n",
       "      <td>2500995</td>\n",
       "      <td>VALENCIA</td>\n",
       "      <td>MADRID</td>\n",
       "      <td>REGIONAL</td>\n",
       "      <td>28.35</td>\n",
       "      <td>Turista</td>\n",
       "      <td>Adulto ida</td>\n",
       "      <td>7.633333</td>\n",
       "      <td>8</td>\n",
       "      <td>9</td>\n",
       "      <td>1</td>\n",
       "    </tr>\n",
       "    <tr>\n",
       "      <td>7750123</td>\n",
       "      <td>VALENCIA</td>\n",
       "      <td>MADRID</td>\n",
       "      <td>REGIONAL</td>\n",
       "      <td>28.35</td>\n",
       "      <td>Turista</td>\n",
       "      <td>Adulto ida</td>\n",
       "      <td>7.633333</td>\n",
       "      <td>17</td>\n",
       "      <td>9</td>\n",
       "      <td>0</td>\n",
       "    </tr>\n",
       "    <tr>\n",
       "      <td>8626820</td>\n",
       "      <td>MADRID</td>\n",
       "      <td>VALENCIA</td>\n",
       "      <td>REGIONAL</td>\n",
       "      <td>28.35</td>\n",
       "      <td>Turista</td>\n",
       "      <td>Adulto ida</td>\n",
       "      <td>6.700000</td>\n",
       "      <td>38</td>\n",
       "      <td>16</td>\n",
       "      <td>3</td>\n",
       "    </tr>\n",
       "    <tr>\n",
       "      <td>6918060</td>\n",
       "      <td>VALENCIA</td>\n",
       "      <td>MADRID</td>\n",
       "      <td>REGIONAL</td>\n",
       "      <td>28.35</td>\n",
       "      <td>Turista</td>\n",
       "      <td>Adulto ida</td>\n",
       "      <td>7.666667</td>\n",
       "      <td>14</td>\n",
       "      <td>14</td>\n",
       "      <td>2</td>\n",
       "    </tr>\n",
       "    <tr>\n",
       "      <td>7929214</td>\n",
       "      <td>VALENCIA</td>\n",
       "      <td>MADRID</td>\n",
       "      <td>REGIONAL</td>\n",
       "      <td>28.35</td>\n",
       "      <td>Turista</td>\n",
       "      <td>Adulto ida</td>\n",
       "      <td>7.700000</td>\n",
       "      <td>53</td>\n",
       "      <td>6</td>\n",
       "      <td>3</td>\n",
       "    </tr>\n",
       "    <tr>\n",
       "      <td>...</td>\n",
       "      <td>...</td>\n",
       "      <td>...</td>\n",
       "      <td>...</td>\n",
       "      <td>...</td>\n",
       "      <td>...</td>\n",
       "      <td>...</td>\n",
       "      <td>...</td>\n",
       "      <td>...</td>\n",
       "      <td>...</td>\n",
       "      <td>...</td>\n",
       "    </tr>\n",
       "    <tr>\n",
       "      <td>5643889</td>\n",
       "      <td>MADRID</td>\n",
       "      <td>VALENCIA</td>\n",
       "      <td>REGIONAL</td>\n",
       "      <td>28.35</td>\n",
       "      <td>Turista</td>\n",
       "      <td>Adulto ida</td>\n",
       "      <td>6.716667</td>\n",
       "      <td>57</td>\n",
       "      <td>12</td>\n",
       "      <td>2</td>\n",
       "    </tr>\n",
       "    <tr>\n",
       "      <td>1165780</td>\n",
       "      <td>VALENCIA</td>\n",
       "      <td>MADRID</td>\n",
       "      <td>REGIONAL</td>\n",
       "      <td>28.35</td>\n",
       "      <td>Turista</td>\n",
       "      <td>Adulto ida</td>\n",
       "      <td>6.983333</td>\n",
       "      <td>40</td>\n",
       "      <td>6</td>\n",
       "      <td>6</td>\n",
       "    </tr>\n",
       "    <tr>\n",
       "      <td>8859946</td>\n",
       "      <td>VALENCIA</td>\n",
       "      <td>MADRID</td>\n",
       "      <td>REGIONAL</td>\n",
       "      <td>28.35</td>\n",
       "      <td>Turista</td>\n",
       "      <td>Adulto ida</td>\n",
       "      <td>7.633333</td>\n",
       "      <td>53</td>\n",
       "      <td>9</td>\n",
       "      <td>0</td>\n",
       "    </tr>\n",
       "    <tr>\n",
       "      <td>7704935</td>\n",
       "      <td>MADRID</td>\n",
       "      <td>VALENCIA</td>\n",
       "      <td>REGIONAL</td>\n",
       "      <td>28.35</td>\n",
       "      <td>Turista</td>\n",
       "      <td>Adulto ida</td>\n",
       "      <td>6.716667</td>\n",
       "      <td>25</td>\n",
       "      <td>12</td>\n",
       "      <td>1</td>\n",
       "    </tr>\n",
       "    <tr>\n",
       "      <td>4862490</td>\n",
       "      <td>VALENCIA</td>\n",
       "      <td>MADRID</td>\n",
       "      <td>REGIONAL</td>\n",
       "      <td>28.35</td>\n",
       "      <td>Turista</td>\n",
       "      <td>Adulto ida</td>\n",
       "      <td>7.133333</td>\n",
       "      <td>7</td>\n",
       "      <td>9</td>\n",
       "      <td>2</td>\n",
       "    </tr>\n",
       "  </tbody>\n",
       "</table>\n",
       "<p>474 rows × 10 columns</p>\n",
       "</div>"
      ],
      "text/plain": [
       "           origin destination train_type  price train_class        fare  \\\n",
       "2500995  VALENCIA      MADRID   REGIONAL  28.35     Turista  Adulto ida   \n",
       "7750123  VALENCIA      MADRID   REGIONAL  28.35     Turista  Adulto ida   \n",
       "8626820    MADRID    VALENCIA   REGIONAL  28.35     Turista  Adulto ida   \n",
       "6918060  VALENCIA      MADRID   REGIONAL  28.35     Turista  Adulto ida   \n",
       "7929214  VALENCIA      MADRID   REGIONAL  28.35     Turista  Adulto ida   \n",
       "...           ...         ...        ...    ...         ...         ...   \n",
       "5643889    MADRID    VALENCIA   REGIONAL  28.35     Turista  Adulto ida   \n",
       "1165780  VALENCIA      MADRID   REGIONAL  28.35     Turista  Adulto ida   \n",
       "8859946  VALENCIA      MADRID   REGIONAL  28.35     Turista  Adulto ida   \n",
       "7704935    MADRID    VALENCIA   REGIONAL  28.35     Turista  Adulto ida   \n",
       "4862490  VALENCIA      MADRID   REGIONAL  28.35     Turista  Adulto ida   \n",
       "\n",
       "         duration  time_to_departure  hour  weekday  \n",
       "2500995  7.633333                  8     9        1  \n",
       "7750123  7.633333                 17     9        0  \n",
       "8626820  6.700000                 38    16        3  \n",
       "6918060  7.666667                 14    14        2  \n",
       "7929214  7.700000                 53     6        3  \n",
       "...           ...                ...   ...      ...  \n",
       "5643889  6.716667                 57    12        2  \n",
       "1165780  6.983333                 40     6        6  \n",
       "8859946  7.633333                 53     9        0  \n",
       "7704935  6.716667                 25    12        1  \n",
       "4862490  7.133333                  7     9        2  \n",
       "\n",
       "[474 rows x 10 columns]"
      ]
     },
     "execution_count": 13,
     "metadata": {},
     "output_type": "execute_result"
    }
   ],
   "source": [
    "df_results = df_umap.copy()\n",
    "\n",
    "df_results.loc[:,columns_to_encode] = encoder_m.inverse_transform(df_results[columns_to_encode])\n",
    "\n",
    "df_results[clustering == 0]"
   ]
  },
  {
   "cell_type": "markdown",
   "metadata": {},
   "source": [
    "## Save Models"
   ]
  },
  {
   "cell_type": "markdown",
   "metadata": {},
   "source": [
    "The last step will be saving all the models that have taken part in the pipeline for further use in following lessons."
   ]
  },
  {
   "cell_type": "code",
   "execution_count": 14,
   "metadata": {},
   "outputs": [],
   "source": [
    "import pickle\n",
    "\n",
    "output_folder = '../output/pickle_data'\n",
    "\n",
    "!if [ ! -d $output_folder ]; then mkdir -p $output_folder; fi\n",
    "\n",
    "with open(f'{output_folder}/encoder.pickle', 'wb') as f:\n",
    "    pickle.dump(encoder_m, f)\n",
    "\n",
    "with open(f'{output_folder}/umap.pickle', 'wb') as f:\n",
    "    pickle.dump(umap_m, f)\n",
    "\n",
    "with open(f'{output_folder}/hdbscan.pickle', 'wb') as f:\n",
    "    pickle.dump(hdbscan_m, f)"
   ]
  },
  {
   "cell_type": "code",
   "execution_count": null,
   "metadata": {},
   "outputs": [],
   "source": []
  }
 ],
 "metadata": {
  "kernelspec": {
   "display_name": "Python 3",
   "language": "python",
   "name": "python3"
  },
  "language_info": {
   "codemirror_mode": {
    "name": "ipython",
    "version": 3
   },
   "file_extension": ".py",
   "mimetype": "text/x-python",
   "name": "python",
   "nbconvert_exporter": "python",
   "pygments_lexer": "ipython3",
   "version": "3.7.4"
  }
 },
 "nbformat": 4,
 "nbformat_minor": 2
}
