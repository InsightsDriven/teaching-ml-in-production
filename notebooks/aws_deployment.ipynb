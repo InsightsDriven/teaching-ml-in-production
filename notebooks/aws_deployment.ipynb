{
 "cells": [
  {
   "cell_type": "markdown",
   "metadata": {},
   "source": [
    "# renfe-guru sagemaker example"
   ]
  },
  {
   "cell_type": "markdown",
   "metadata": {},
   "source": [
    "## 0. python general imports"
   ]
  },
  {
   "cell_type": "code",
   "execution_count": 1,
   "metadata": {},
   "outputs": [],
   "source": [
    "import pandas as pd\n",
    "import logging\n",
    "import matplotlib.pyplot as plt\n",
    "\n",
    "%matplotlib inline"
   ]
  },
  {
   "cell_type": "code",
   "execution_count": 2,
   "metadata": {},
   "outputs": [
    {
     "name": "stderr",
     "output_type": "stream",
     "text": [
      "2019-09-26 13:20:28,799 - root - INFO - hi!\n"
     ]
    }
   ],
   "source": [
    "def get_logger():\n",
    "    logger = logging.getLogger()\n",
    "    logger.setLevel(logging.DEBUG)\n",
    "    ch = logging.StreamHandler()\n",
    "    ch.setLevel(logging.INFO)\n",
    "    formatter = logging.Formatter(\n",
    "        '%(asctime)s - %(name)s - %(levelname)s - %(message)s')\n",
    "    ch.setFormatter(formatter)\n",
    "    logger.addHandler(ch)\n",
    "\n",
    "    return logger\n",
    "\n",
    "logger = get_logger()\n",
    "\n",
    "logger.info(\"hi!\")"
   ]
  },
  {
   "cell_type": "markdown",
   "metadata": {},
   "source": [
    "## 1. data loading"
   ]
  },
  {
   "cell_type": "markdown",
   "metadata": {},
   "source": [
    "the dataset can be downloaded here: https://www.kaggle.com/thegurusteam/spanish-high-speed-rail-system-ticket-pricing"
   ]
  },
  {
   "cell_type": "code",
   "execution_count": 3,
   "metadata": {},
   "outputs": [],
   "source": [
    "renfe = pd.read_parquet('../data/raw/renfe.parquet')  # about 60MB in .parquet file, but 3.5Gb in memory, be careful!"
   ]
  },
  {
   "cell_type": "code",
   "execution_count": 4,
   "metadata": {},
   "outputs": [
    {
     "data": {
      "text/html": [
       "<div>\n",
       "<style scoped>\n",
       "    .dataframe tbody tr th:only-of-type {\n",
       "        vertical-align: middle;\n",
       "    }\n",
       "\n",
       "    .dataframe tbody tr th {\n",
       "        vertical-align: top;\n",
       "    }\n",
       "\n",
       "    .dataframe thead th {\n",
       "        text-align: right;\n",
       "    }\n",
       "</style>\n",
       "<table border=\"1\" class=\"dataframe\">\n",
       "  <thead>\n",
       "    <tr style=\"text-align: right;\">\n",
       "      <th></th>\n",
       "      <th>insert_date</th>\n",
       "      <th>origin</th>\n",
       "      <th>destination</th>\n",
       "      <th>start_date</th>\n",
       "      <th>end_date</th>\n",
       "      <th>train_type</th>\n",
       "      <th>price</th>\n",
       "      <th>train_class</th>\n",
       "      <th>fare</th>\n",
       "    </tr>\n",
       "  </thead>\n",
       "  <tbody>\n",
       "    <tr>\n",
       "      <td>0</td>\n",
       "      <td>2019-08-21 03:42:10</td>\n",
       "      <td>SEVILLA</td>\n",
       "      <td>MADRID</td>\n",
       "      <td>2019-08-29 13:40:00</td>\n",
       "      <td>2019-08-29 16:10:00</td>\n",
       "      <td>AVE</td>\n",
       "      <td>47.30</td>\n",
       "      <td>Turista</td>\n",
       "      <td>Promo</td>\n",
       "    </tr>\n",
       "    <tr>\n",
       "      <td>1</td>\n",
       "      <td>2019-08-21 03:42:10</td>\n",
       "      <td>SEVILLA</td>\n",
       "      <td>MADRID</td>\n",
       "      <td>2019-08-29 14:45:00</td>\n",
       "      <td>2019-08-29 17:15:00</td>\n",
       "      <td>AVE</td>\n",
       "      <td>53.40</td>\n",
       "      <td>Turista</td>\n",
       "      <td>Promo</td>\n",
       "    </tr>\n",
       "    <tr>\n",
       "      <td>2</td>\n",
       "      <td>2019-08-21 03:42:10</td>\n",
       "      <td>SEVILLA</td>\n",
       "      <td>MADRID</td>\n",
       "      <td>2019-08-29 14:58:00</td>\n",
       "      <td>2019-08-29 17:50:00</td>\n",
       "      <td>ALVIA</td>\n",
       "      <td>NaN</td>\n",
       "      <td>Preferente</td>\n",
       "      <td>Promo</td>\n",
       "    </tr>\n",
       "    <tr>\n",
       "      <td>3</td>\n",
       "      <td>2019-08-21 03:42:10</td>\n",
       "      <td>SEVILLA</td>\n",
       "      <td>MADRID</td>\n",
       "      <td>2019-08-29 15:45:00</td>\n",
       "      <td>2019-08-29 18:15:00</td>\n",
       "      <td>AVE</td>\n",
       "      <td>61.45</td>\n",
       "      <td>Preferente</td>\n",
       "      <td>Promo</td>\n",
       "    </tr>\n",
       "    <tr>\n",
       "      <td>4</td>\n",
       "      <td>2019-08-21 03:42:10</td>\n",
       "      <td>SEVILLA</td>\n",
       "      <td>MADRID</td>\n",
       "      <td>2019-08-29 16:45:00</td>\n",
       "      <td>2019-08-29 19:17:00</td>\n",
       "      <td>AVE</td>\n",
       "      <td>60.30</td>\n",
       "      <td>Turista</td>\n",
       "      <td>Promo</td>\n",
       "    </tr>\n",
       "  </tbody>\n",
       "</table>\n",
       "</div>"
      ],
      "text/plain": [
       "          insert_date   origin destination          start_date  \\\n",
       "0 2019-08-21 03:42:10  SEVILLA      MADRID 2019-08-29 13:40:00   \n",
       "1 2019-08-21 03:42:10  SEVILLA      MADRID 2019-08-29 14:45:00   \n",
       "2 2019-08-21 03:42:10  SEVILLA      MADRID 2019-08-29 14:58:00   \n",
       "3 2019-08-21 03:42:10  SEVILLA      MADRID 2019-08-29 15:45:00   \n",
       "4 2019-08-21 03:42:10  SEVILLA      MADRID 2019-08-29 16:45:00   \n",
       "\n",
       "             end_date train_type  price train_class   fare  \n",
       "0 2019-08-29 16:10:00        AVE  47.30     Turista  Promo  \n",
       "1 2019-08-29 17:15:00        AVE  53.40     Turista  Promo  \n",
       "2 2019-08-29 17:50:00      ALVIA    NaN  Preferente  Promo  \n",
       "3 2019-08-29 18:15:00        AVE  61.45  Preferente  Promo  \n",
       "4 2019-08-29 19:17:00        AVE  60.30     Turista  Promo  "
      ]
     },
     "execution_count": 4,
     "metadata": {},
     "output_type": "execute_result"
    }
   ],
   "source": [
    "renfe.head()"
   ]
  },
  {
   "cell_type": "code",
   "execution_count": 5,
   "metadata": {},
   "outputs": [
    {
     "data": {
      "text/plain": [
       "insert_date    datetime64[ns]\n",
       "origin                 object\n",
       "destination            object\n",
       "start_date     datetime64[ns]\n",
       "end_date       datetime64[ns]\n",
       "train_type             object\n",
       "price                 float64\n",
       "train_class            object\n",
       "fare                   object\n",
       "dtype: object"
      ]
     },
     "execution_count": 5,
     "metadata": {},
     "output_type": "execute_result"
    }
   ],
   "source": [
    "renfe.dtypes"
   ]
  },
  {
   "cell_type": "code",
   "execution_count": 6,
   "metadata": {},
   "outputs": [
    {
     "name": "stdout",
     "output_type": "stream",
     "text": [
      "<class 'pandas.core.frame.DataFrame'>\n",
      "RangeIndex: 10800510 entries, 0 to 10800509\n",
      "Data columns (total 9 columns):\n",
      "insert_date    datetime64[ns]\n",
      "origin         object\n",
      "destination    object\n",
      "start_date     datetime64[ns]\n",
      "end_date       datetime64[ns]\n",
      "train_type     object\n",
      "price          float64\n",
      "train_class    object\n",
      "fare           object\n",
      "dtypes: datetime64[ns](3), float64(1), object(5)\n",
      "memory usage: 741.6+ MB\n"
     ]
    }
   ],
   "source": [
    "renfe.info()  # with deep memory usage will take a while..."
   ]
  },
  {
   "cell_type": "markdown",
   "metadata": {},
   "source": [
    "## 2. data wrangling"
   ]
  },
  {
   "cell_type": "markdown",
   "metadata": {},
   "source": [
    "first of all, null values will be dropped. all null values are due to:\n",
    "- scrapping errors, specially at the beggining of the process\n",
    "- trains with no ticket available (usually full, canceled, etc.)"
   ]
  },
  {
   "cell_type": "code",
   "execution_count": 7,
   "metadata": {},
   "outputs": [],
   "source": [
    "# filtering null values, inplace to modify original df\n",
    "\n",
    "renfe.dropna(inplace=True)"
   ]
  },
  {
   "cell_type": "markdown",
   "metadata": {},
   "source": [
    "as the goal is to predict ticket price in advance, some interesting features can be derived:\n",
    "- trip duration (in hours)\n",
    "- time to departure (in days)\n",
    "- hour of departure (24h)\n",
    "- week day of departure"
   ]
  },
  {
   "cell_type": "code",
   "execution_count": 8,
   "metadata": {},
   "outputs": [],
   "source": [
    "# feature engineering / generation\n",
    "\n",
    "def add_features(renfe_df):\n",
    "\n",
    "    renfe_df['duration'] = (renfe_df['end_date'] - renfe_df['start_date']).dt.seconds / 3600\n",
    "    renfe_df['time_to_departure'] = (renfe_df['start_date'].dt.tz_localize('Europe/Madrid').dt.tz_convert('UTC') \\\n",
    "                                   - renfe_df['insert_date'].dt.tz_localize('UTC')).dt.days\n",
    "    renfe_df['hour'] = renfe_df['start_date'].dt.hour\n",
    "    renfe_df['weekday'] = renfe_df['start_date'].dt.dayofweek\n",
    "\n",
    "add_features(renfe)"
   ]
  },
  {
   "cell_type": "markdown",
   "metadata": {},
   "source": [
    "following, perform train - validation - test splits:"
   ]
  },
  {
   "cell_type": "code",
   "execution_count": 9,
   "metadata": {},
   "outputs": [],
   "source": [
    "# train - test split\n",
    "\n",
    "from sklearn.model_selection import train_test_split\n",
    "\n",
    "renfe_train_validation, renfe_test = train_test_split(renfe)\n",
    "renfe_train, renfe_validation = train_test_split(renfe_train_validation)\n",
    "\n",
    "# to avoid chained assignment 'pandas warning'\n",
    "\n",
    "renfe_train = renfe_train.copy()\n",
    "renfe_validation = renfe_validation.copy()\n",
    "renfe_test = renfe_test.copy()"
   ]
  },
  {
   "cell_type": "code",
   "execution_count": 10,
   "metadata": {},
   "outputs": [
    {
     "name": "stderr",
     "output_type": "stream",
     "text": [
      "2019-09-26 13:21:06,323 - root - INFO - n obs in training set are: 5699503\n",
      "2019-09-26 13:21:06,325 - root - INFO - n obs in validation set are: 1899835\n",
      "2019-09-26 13:21:06,326 - root - INFO - n obs in test set are: 2533113\n"
     ]
    }
   ],
   "source": [
    "logger.info(f'n obs in training set are: {renfe_train.shape[0]}')\n",
    "logger.info(f'n obs in validation set are: {renfe_validation.shape[0]}')\n",
    "logger.info(f'n obs in test set are: {renfe_test.shape[0]}')"
   ]
  },
  {
   "cell_type": "markdown",
   "metadata": {},
   "source": [
    "data looks like this so far:"
   ]
  },
  {
   "cell_type": "code",
   "execution_count": 11,
   "metadata": {},
   "outputs": [
    {
     "data": {
      "text/html": [
       "<div>\n",
       "<style scoped>\n",
       "    .dataframe tbody tr th:only-of-type {\n",
       "        vertical-align: middle;\n",
       "    }\n",
       "\n",
       "    .dataframe tbody tr th {\n",
       "        vertical-align: top;\n",
       "    }\n",
       "\n",
       "    .dataframe thead th {\n",
       "        text-align: right;\n",
       "    }\n",
       "</style>\n",
       "<table border=\"1\" class=\"dataframe\">\n",
       "  <thead>\n",
       "    <tr style=\"text-align: right;\">\n",
       "      <th></th>\n",
       "      <th>4014038</th>\n",
       "      <th>1500573</th>\n",
       "      <th>4233318</th>\n",
       "      <th>6871655</th>\n",
       "      <th>10472288</th>\n",
       "    </tr>\n",
       "  </thead>\n",
       "  <tbody>\n",
       "    <tr>\n",
       "      <td>insert_date</td>\n",
       "      <td>2019-04-17 13:23:18</td>\n",
       "      <td>2019-09-05 13:02:06</td>\n",
       "      <td>2019-04-19 05:04:09</td>\n",
       "      <td>2019-05-21 21:50:01</td>\n",
       "      <td>2019-08-16 19:45:56</td>\n",
       "    </tr>\n",
       "    <tr>\n",
       "      <td>origin</td>\n",
       "      <td>VALENCIA</td>\n",
       "      <td>MADRID</td>\n",
       "      <td>MADRID</td>\n",
       "      <td>BARCELONA</td>\n",
       "      <td>PONFERRADA</td>\n",
       "    </tr>\n",
       "    <tr>\n",
       "      <td>destination</td>\n",
       "      <td>MADRID</td>\n",
       "      <td>VALENCIA</td>\n",
       "      <td>SEVILLA</td>\n",
       "      <td>MADRID</td>\n",
       "      <td>MADRID</td>\n",
       "    </tr>\n",
       "    <tr>\n",
       "      <td>start_date</td>\n",
       "      <td>2019-05-24 10:40:00</td>\n",
       "      <td>2019-10-28 16:05:00</td>\n",
       "      <td>2019-05-08 19:30:00</td>\n",
       "      <td>2019-07-14 16:25:00</td>\n",
       "      <td>2019-09-04 06:11:00</td>\n",
       "    </tr>\n",
       "    <tr>\n",
       "      <td>end_date</td>\n",
       "      <td>2019-05-24 12:32:00</td>\n",
       "      <td>2019-10-28 22:47:00</td>\n",
       "      <td>2019-05-08 22:05:00</td>\n",
       "      <td>2019-07-14 18:55:00</td>\n",
       "      <td>2019-09-04 10:15:00</td>\n",
       "    </tr>\n",
       "    <tr>\n",
       "      <td>train_type</td>\n",
       "      <td>AVE</td>\n",
       "      <td>REGIONAL</td>\n",
       "      <td>AVE</td>\n",
       "      <td>AVE</td>\n",
       "      <td>ALVIA</td>\n",
       "    </tr>\n",
       "    <tr>\n",
       "      <td>price</td>\n",
       "      <td>33.65</td>\n",
       "      <td>28.35</td>\n",
       "      <td>53.4</td>\n",
       "      <td>88.95</td>\n",
       "      <td>33.5</td>\n",
       "    </tr>\n",
       "    <tr>\n",
       "      <td>train_class</td>\n",
       "      <td>Turista</td>\n",
       "      <td>Turista</td>\n",
       "      <td>Turista</td>\n",
       "      <td>Turista</td>\n",
       "      <td>Turista</td>\n",
       "    </tr>\n",
       "    <tr>\n",
       "      <td>fare</td>\n",
       "      <td>Promo</td>\n",
       "      <td>Adulto ida</td>\n",
       "      <td>Promo</td>\n",
       "      <td>Promo</td>\n",
       "      <td>Promo</td>\n",
       "    </tr>\n",
       "    <tr>\n",
       "      <td>duration</td>\n",
       "      <td>1.86667</td>\n",
       "      <td>6.7</td>\n",
       "      <td>2.58333</td>\n",
       "      <td>2.5</td>\n",
       "      <td>4.06667</td>\n",
       "    </tr>\n",
       "    <tr>\n",
       "      <td>time_to_departure</td>\n",
       "      <td>36</td>\n",
       "      <td>53</td>\n",
       "      <td>19</td>\n",
       "      <td>53</td>\n",
       "      <td>18</td>\n",
       "    </tr>\n",
       "    <tr>\n",
       "      <td>hour</td>\n",
       "      <td>10</td>\n",
       "      <td>16</td>\n",
       "      <td>19</td>\n",
       "      <td>16</td>\n",
       "      <td>6</td>\n",
       "    </tr>\n",
       "    <tr>\n",
       "      <td>weekday</td>\n",
       "      <td>4</td>\n",
       "      <td>0</td>\n",
       "      <td>2</td>\n",
       "      <td>6</td>\n",
       "      <td>2</td>\n",
       "    </tr>\n",
       "  </tbody>\n",
       "</table>\n",
       "</div>"
      ],
      "text/plain": [
       "                              4014038              1500573   \\\n",
       "insert_date        2019-04-17 13:23:18  2019-09-05 13:02:06   \n",
       "origin                        VALENCIA               MADRID   \n",
       "destination                     MADRID             VALENCIA   \n",
       "start_date         2019-05-24 10:40:00  2019-10-28 16:05:00   \n",
       "end_date           2019-05-24 12:32:00  2019-10-28 22:47:00   \n",
       "train_type                         AVE             REGIONAL   \n",
       "price                            33.65                28.35   \n",
       "train_class                    Turista              Turista   \n",
       "fare                             Promo           Adulto ida   \n",
       "duration                       1.86667                  6.7   \n",
       "time_to_departure                   36                   53   \n",
       "hour                                10                   16   \n",
       "weekday                              4                    0   \n",
       "\n",
       "                              4233318              6871655   \\\n",
       "insert_date        2019-04-19 05:04:09  2019-05-21 21:50:01   \n",
       "origin                          MADRID            BARCELONA   \n",
       "destination                    SEVILLA               MADRID   \n",
       "start_date         2019-05-08 19:30:00  2019-07-14 16:25:00   \n",
       "end_date           2019-05-08 22:05:00  2019-07-14 18:55:00   \n",
       "train_type                         AVE                  AVE   \n",
       "price                             53.4                88.95   \n",
       "train_class                    Turista              Turista   \n",
       "fare                             Promo                Promo   \n",
       "duration                       2.58333                  2.5   \n",
       "time_to_departure                   19                   53   \n",
       "hour                                19                   16   \n",
       "weekday                              2                    6   \n",
       "\n",
       "                              10472288  \n",
       "insert_date        2019-08-16 19:45:56  \n",
       "origin                      PONFERRADA  \n",
       "destination                     MADRID  \n",
       "start_date         2019-09-04 06:11:00  \n",
       "end_date           2019-09-04 10:15:00  \n",
       "train_type                       ALVIA  \n",
       "price                             33.5  \n",
       "train_class                    Turista  \n",
       "fare                             Promo  \n",
       "duration                       4.06667  \n",
       "time_to_departure                   18  \n",
       "hour                                 6  \n",
       "weekday                              2  "
      ]
     },
     "execution_count": 11,
     "metadata": {},
     "output_type": "execute_result"
    }
   ],
   "source": [
    "renfe_train.head().T"
   ]
  },
  {
   "cell_type": "markdown",
   "metadata": {},
   "source": [
    "following, there are some categorical columns that have to be encoded (most ML algorithms will need that):"
   ]
  },
  {
   "cell_type": "code",
   "execution_count": 12,
   "metadata": {},
   "outputs": [
    {
     "name": "stderr",
     "output_type": "stream",
     "text": [
      "2019-09-26 13:21:09,363 - root - INFO - transforming training set...\n",
      "2019-09-26 13:21:27,345 - root - INFO - transforming validation set...\n",
      "2019-09-26 13:21:32,909 - root - INFO - transforming test set...\n"
     ]
    }
   ],
   "source": [
    "# preprocessing\n",
    "\n",
    "from sklearn.preprocessing import OrdinalEncoder\n",
    "import joblib\n",
    "\n",
    "encode_cols = ['train_type', 'train_class', 'fare', 'origin', 'destination']\n",
    "encoder = OrdinalEncoder()\n",
    "encoder.fit(renfe[encode_cols])  # warning, it should be fit only on training data!\n",
    "joblib.dump(encoder, '../output/pickle_data/encoder.joblib')\n",
    "\n",
    "for split, df in {'training': renfe_train, \n",
    "                  'validation': renfe_validation, \n",
    "                  'test': renfe_test}.items():\n",
    "    logger.info(f'transforming {split} set...')\n",
    "    df.loc[:,encode_cols] = encoder.transform(df.loc[:,encode_cols])"
   ]
  },
  {
   "cell_type": "markdown",
   "metadata": {},
   "source": [
    "with those columns encoded, data looks like this:"
   ]
  },
  {
   "cell_type": "code",
   "execution_count": 13,
   "metadata": {},
   "outputs": [
    {
     "data": {
      "text/html": [
       "<div>\n",
       "<style scoped>\n",
       "    .dataframe tbody tr th:only-of-type {\n",
       "        vertical-align: middle;\n",
       "    }\n",
       "\n",
       "    .dataframe tbody tr th {\n",
       "        vertical-align: top;\n",
       "    }\n",
       "\n",
       "    .dataframe thead th {\n",
       "        text-align: right;\n",
       "    }\n",
       "</style>\n",
       "<table border=\"1\" class=\"dataframe\">\n",
       "  <thead>\n",
       "    <tr style=\"text-align: right;\">\n",
       "      <th></th>\n",
       "      <th>4014038</th>\n",
       "      <th>1500573</th>\n",
       "      <th>4233318</th>\n",
       "      <th>6871655</th>\n",
       "      <th>10472288</th>\n",
       "    </tr>\n",
       "  </thead>\n",
       "  <tbody>\n",
       "    <tr>\n",
       "      <td>insert_date</td>\n",
       "      <td>2019-04-17 13:23:18</td>\n",
       "      <td>2019-09-05 13:02:06</td>\n",
       "      <td>2019-04-19 05:04:09</td>\n",
       "      <td>2019-05-21 21:50:01</td>\n",
       "      <td>2019-08-16 19:45:56</td>\n",
       "    </tr>\n",
       "    <tr>\n",
       "      <td>origin</td>\n",
       "      <td>5</td>\n",
       "      <td>2</td>\n",
       "      <td>2</td>\n",
       "      <td>0</td>\n",
       "      <td>3</td>\n",
       "    </tr>\n",
       "    <tr>\n",
       "      <td>destination</td>\n",
       "      <td>2</td>\n",
       "      <td>5</td>\n",
       "      <td>4</td>\n",
       "      <td>2</td>\n",
       "      <td>2</td>\n",
       "    </tr>\n",
       "    <tr>\n",
       "      <td>start_date</td>\n",
       "      <td>2019-05-24 10:40:00</td>\n",
       "      <td>2019-10-28 16:05:00</td>\n",
       "      <td>2019-05-08 19:30:00</td>\n",
       "      <td>2019-07-14 16:25:00</td>\n",
       "      <td>2019-09-04 06:11:00</td>\n",
       "    </tr>\n",
       "    <tr>\n",
       "      <td>end_date</td>\n",
       "      <td>2019-05-24 12:32:00</td>\n",
       "      <td>2019-10-28 22:47:00</td>\n",
       "      <td>2019-05-08 22:05:00</td>\n",
       "      <td>2019-07-14 18:55:00</td>\n",
       "      <td>2019-09-04 10:15:00</td>\n",
       "    </tr>\n",
       "    <tr>\n",
       "      <td>train_type</td>\n",
       "      <td>2</td>\n",
       "      <td>13</td>\n",
       "      <td>2</td>\n",
       "      <td>2</td>\n",
       "      <td>0</td>\n",
       "    </tr>\n",
       "    <tr>\n",
       "      <td>price</td>\n",
       "      <td>33.65</td>\n",
       "      <td>28.35</td>\n",
       "      <td>53.4</td>\n",
       "      <td>88.95</td>\n",
       "      <td>33.5</td>\n",
       "    </tr>\n",
       "    <tr>\n",
       "      <td>train_class</td>\n",
       "      <td>4</td>\n",
       "      <td>4</td>\n",
       "      <td>4</td>\n",
       "      <td>4</td>\n",
       "      <td>4</td>\n",
       "    </tr>\n",
       "    <tr>\n",
       "      <td>fare</td>\n",
       "      <td>8</td>\n",
       "      <td>1</td>\n",
       "      <td>8</td>\n",
       "      <td>8</td>\n",
       "      <td>8</td>\n",
       "    </tr>\n",
       "    <tr>\n",
       "      <td>duration</td>\n",
       "      <td>1.86667</td>\n",
       "      <td>6.7</td>\n",
       "      <td>2.58333</td>\n",
       "      <td>2.5</td>\n",
       "      <td>4.06667</td>\n",
       "    </tr>\n",
       "    <tr>\n",
       "      <td>time_to_departure</td>\n",
       "      <td>36</td>\n",
       "      <td>53</td>\n",
       "      <td>19</td>\n",
       "      <td>53</td>\n",
       "      <td>18</td>\n",
       "    </tr>\n",
       "    <tr>\n",
       "      <td>hour</td>\n",
       "      <td>10</td>\n",
       "      <td>16</td>\n",
       "      <td>19</td>\n",
       "      <td>16</td>\n",
       "      <td>6</td>\n",
       "    </tr>\n",
       "    <tr>\n",
       "      <td>weekday</td>\n",
       "      <td>4</td>\n",
       "      <td>0</td>\n",
       "      <td>2</td>\n",
       "      <td>6</td>\n",
       "      <td>2</td>\n",
       "    </tr>\n",
       "  </tbody>\n",
       "</table>\n",
       "</div>"
      ],
      "text/plain": [
       "                              4014038              1500573   \\\n",
       "insert_date        2019-04-17 13:23:18  2019-09-05 13:02:06   \n",
       "origin                               5                    2   \n",
       "destination                          2                    5   \n",
       "start_date         2019-05-24 10:40:00  2019-10-28 16:05:00   \n",
       "end_date           2019-05-24 12:32:00  2019-10-28 22:47:00   \n",
       "train_type                           2                   13   \n",
       "price                            33.65                28.35   \n",
       "train_class                          4                    4   \n",
       "fare                                 8                    1   \n",
       "duration                       1.86667                  6.7   \n",
       "time_to_departure                   36                   53   \n",
       "hour                                10                   16   \n",
       "weekday                              4                    0   \n",
       "\n",
       "                              4233318              6871655   \\\n",
       "insert_date        2019-04-19 05:04:09  2019-05-21 21:50:01   \n",
       "origin                               2                    0   \n",
       "destination                          4                    2   \n",
       "start_date         2019-05-08 19:30:00  2019-07-14 16:25:00   \n",
       "end_date           2019-05-08 22:05:00  2019-07-14 18:55:00   \n",
       "train_type                           2                    2   \n",
       "price                             53.4                88.95   \n",
       "train_class                          4                    4   \n",
       "fare                                 8                    8   \n",
       "duration                       2.58333                  2.5   \n",
       "time_to_departure                   19                   53   \n",
       "hour                                19                   16   \n",
       "weekday                              2                    6   \n",
       "\n",
       "                              10472288  \n",
       "insert_date        2019-08-16 19:45:56  \n",
       "origin                               3  \n",
       "destination                          2  \n",
       "start_date         2019-09-04 06:11:00  \n",
       "end_date           2019-09-04 10:15:00  \n",
       "train_type                           0  \n",
       "price                             33.5  \n",
       "train_class                          4  \n",
       "fare                                 8  \n",
       "duration                       4.06667  \n",
       "time_to_departure                   18  \n",
       "hour                                 6  \n",
       "weekday                              2  "
      ]
     },
     "execution_count": 13,
     "metadata": {},
     "output_type": "execute_result"
    }
   ],
   "source": [
    "renfe_train.head().T"
   ]
  },
  {
   "cell_type": "markdown",
   "metadata": {},
   "source": [
    "## 3. upload data to S3"
   ]
  },
  {
   "cell_type": "markdown",
   "metadata": {},
   "source": [
    "to use sagemaker using aws apis (sagemaker or boto) data must be formated in a particular way and stored in aws s3"
   ]
  },
  {
   "cell_type": "code",
   "execution_count": 14,
   "metadata": {},
   "outputs": [
    {
     "data": {
      "text/html": [
       "<div>\n",
       "<style scoped>\n",
       "    .dataframe tbody tr th:only-of-type {\n",
       "        vertical-align: middle;\n",
       "    }\n",
       "\n",
       "    .dataframe tbody tr th {\n",
       "        vertical-align: top;\n",
       "    }\n",
       "\n",
       "    .dataframe thead th {\n",
       "        text-align: right;\n",
       "    }\n",
       "</style>\n",
       "<table border=\"1\" class=\"dataframe\">\n",
       "  <thead>\n",
       "    <tr style=\"text-align: right;\">\n",
       "      <th></th>\n",
       "      <th>price</th>\n",
       "      <th>train_type</th>\n",
       "      <th>train_class</th>\n",
       "      <th>fare</th>\n",
       "      <th>duration</th>\n",
       "      <th>time_to_departure</th>\n",
       "      <th>hour</th>\n",
       "      <th>weekday</th>\n",
       "    </tr>\n",
       "  </thead>\n",
       "  <tbody>\n",
       "    <tr>\n",
       "      <td>4014038</td>\n",
       "      <td>33.65</td>\n",
       "      <td>2.0</td>\n",
       "      <td>4.0</td>\n",
       "      <td>8.0</td>\n",
       "      <td>1.866667</td>\n",
       "      <td>36</td>\n",
       "      <td>10</td>\n",
       "      <td>4</td>\n",
       "    </tr>\n",
       "    <tr>\n",
       "      <td>1500573</td>\n",
       "      <td>28.35</td>\n",
       "      <td>13.0</td>\n",
       "      <td>4.0</td>\n",
       "      <td>1.0</td>\n",
       "      <td>6.700000</td>\n",
       "      <td>53</td>\n",
       "      <td>16</td>\n",
       "      <td>0</td>\n",
       "    </tr>\n",
       "    <tr>\n",
       "      <td>4233318</td>\n",
       "      <td>53.40</td>\n",
       "      <td>2.0</td>\n",
       "      <td>4.0</td>\n",
       "      <td>8.0</td>\n",
       "      <td>2.583333</td>\n",
       "      <td>19</td>\n",
       "      <td>19</td>\n",
       "      <td>2</td>\n",
       "    </tr>\n",
       "    <tr>\n",
       "      <td>6871655</td>\n",
       "      <td>88.95</td>\n",
       "      <td>2.0</td>\n",
       "      <td>4.0</td>\n",
       "      <td>8.0</td>\n",
       "      <td>2.500000</td>\n",
       "      <td>53</td>\n",
       "      <td>16</td>\n",
       "      <td>6</td>\n",
       "    </tr>\n",
       "    <tr>\n",
       "      <td>10472288</td>\n",
       "      <td>33.50</td>\n",
       "      <td>0.0</td>\n",
       "      <td>4.0</td>\n",
       "      <td>8.0</td>\n",
       "      <td>4.066667</td>\n",
       "      <td>18</td>\n",
       "      <td>6</td>\n",
       "      <td>2</td>\n",
       "    </tr>\n",
       "  </tbody>\n",
       "</table>\n",
       "</div>"
      ],
      "text/plain": [
       "          price  train_type  train_class  fare  duration  time_to_departure  \\\n",
       "4014038   33.65         2.0          4.0   8.0  1.866667                 36   \n",
       "1500573   28.35        13.0          4.0   1.0  6.700000                 53   \n",
       "4233318   53.40         2.0          4.0   8.0  2.583333                 19   \n",
       "6871655   88.95         2.0          4.0   8.0  2.500000                 53   \n",
       "10472288  33.50         0.0          4.0   8.0  4.066667                 18   \n",
       "\n",
       "          hour  weekday  \n",
       "4014038     10        4  \n",
       "1500573     16        0  \n",
       "4233318     19        2  \n",
       "6871655     16        6  \n",
       "10472288     6        2  "
      ]
     },
     "execution_count": 14,
     "metadata": {},
     "output_type": "execute_result"
    }
   ],
   "source": [
    "# target must be in the first position of csv columns for xgboost via sagemaker API\n",
    "\n",
    "target = 'price'\n",
    "features = ['train_type', 'train_class', 'fare', 'duration', 'time_to_departure', 'hour', 'weekday']\n",
    "\n",
    "renfe_train[[target] + features].head()"
   ]
  },
  {
   "cell_type": "markdown",
   "metadata": {},
   "source": [
    "data must be pushed to s3, aws credentials must be properly set for this purpose (`/home/user/.aws/credentials`)."
   ]
  },
  {
   "cell_type": "code",
   "execution_count": 15,
   "metadata": {},
   "outputs": [],
   "source": [
    "BUCKET = 'ml-in-production-madrid-sagemaker'\n",
    "\n",
    "s3_train = 's3://' + BUCKET + '/' + 'train'\n",
    "s3_validation = 's3://' + BUCKET + '/' + 'validation'\n",
    "s3_model_output = 's3://' + BUCKET + '/' + 'model'\n",
    "\n",
    "renfe_train[[target] + features].to_csv(s3_train + '/train.csv', index=False, header=False)  # .csv file without header\n",
    "renfe_validation[[target] + features].to_csv(s3_validation + '/validation.csv', index=False, header=False)"
   ]
  },
  {
   "cell_type": "markdown",
   "metadata": {},
   "source": [
    "## 4. train model with sagemaker api"
   ]
  },
  {
   "cell_type": "markdown",
   "metadata": {},
   "source": [
    "first, using sagemaker api for xgboost image, can launch a model training job using the following code. please note that `role` and `region` information must be specified. can be fetched from aws programatically or hardcoded. __please check your aws console while training__"
   ]
  },
  {
   "cell_type": "code",
   "execution_count": 19,
   "metadata": {},
   "outputs": [
    {
     "name": "stderr",
     "output_type": "stream",
     "text": [
      "2019-09-26 13:47:03,272 - sagemaker - INFO - Creating training-job with name: ml-in-production-madrid-sgemaker-api-2019-09-26-13-47-03\n"
     ]
    },
    {
     "name": "stdout",
     "output_type": "stream",
     "text": [
      "2019-09-26 13:47:03 Starting - Starting the training job...\n",
      "2019-09-26 13:47:06 Starting - Launching requested ML instances...\n",
      "2019-09-26 13:48:01 Starting - Preparing the instances for training......\n",
      "2019-09-26 13:49:05 Downloading - Downloading input data\n",
      "2019-09-26 13:49:05 Training - Downloading the training image...\n",
      "2019-09-26 13:49:24 Training - Training image download completed. Training in progress.\u001b[31mINFO:sagemaker-containers:Imported framework sagemaker_xgboost_container.training\u001b[0m\n",
      "\u001b[31mINFO:sagemaker-containers:Failed to parse hyperparameter objective value reg:linear to Json.\u001b[0m\n",
      "\u001b[31mReturning the value itself\u001b[0m\n",
      "\u001b[31mINFO:sagemaker-containers:No GPUs detected (normal if no gpus installed)\u001b[0m\n",
      "\u001b[31mINFO:sagemaker_xgboost_container.training:Running XGBoost Sagemaker in algorithm mode\u001b[0m\n",
      "\u001b[31mINFO:root:Determined delimiter of CSV input is ','\u001b[0m\n",
      "\u001b[31mINFO:root:Determined delimiter of CSV input is ','\u001b[0m\n",
      "\u001b[31mINFO:root:Determined delimiter of CSV input is ','\u001b[0m\n",
      "\u001b[31m[13:49:26] 5699503x7 matrix with 39896521 entries loaded from /opt/ml/input/data/train?format=csv&label_column=0&delimiter=,\u001b[0m\n",
      "\u001b[31mINFO:root:Determined delimiter of CSV input is ','\u001b[0m\n",
      "\u001b[31m[13:49:27] 1899835x7 matrix with 13298845 entries loaded from /opt/ml/input/data/validation?format=csv&label_column=0&delimiter=,\u001b[0m\n",
      "\u001b[31mINFO:root:Single node training.\u001b[0m\n",
      "\u001b[31mINFO:root:Train matrix has 5699503 rows\u001b[0m\n",
      "\u001b[31mINFO:root:Validation matrix has 1899835 rows\u001b[0m\n",
      "\u001b[31m[13:49:27] WARNING: /workspace/src/objective/regression_obj.cu:152: reg:linear is now deprecated in favor of reg:squarederror.\u001b[0m\n",
      "\u001b[31m[13:49:27] WARNING: /workspace/src/learner.cc:686: Tree method is automatically selected to be 'approx' for faster speed. To use old behavior (exact greedy algorithm on single machine), set tree_method to 'exact'.\u001b[0m\n",
      "\u001b[31m[0]#011train-rmse:53.9982#011validation-rmse:54.0441\u001b[0m\n",
      "\u001b[31m[1]#011train-rmse:44.2293#011validation-rmse:44.3132\u001b[0m\n",
      "\u001b[31m[2]#011train-rmse:36.7184#011validation-rmse:36.7152\u001b[0m\n",
      "\u001b[31m[3]#011train-rmse:30.5009#011validation-rmse:30.535\u001b[0m\n",
      "\u001b[31m[4]#011train-rmse:25.9117#011validation-rmse:25.9343\u001b[0m\n",
      "\u001b[31m[5]#011train-rmse:22.2993#011validation-rmse:22.3438\u001b[0m\n",
      "\n",
      "2019-09-26 13:50:06 Uploading - Uploading generated training model\u001b[31m[6]#011train-rmse:19.5827#011validation-rmse:19.6235\u001b[0m\n",
      "\u001b[31m[7]#011train-rmse:17.5192#011validation-rmse:17.5463\u001b[0m\n",
      "\n",
      "2019-09-26 13:50:11 Completed - Training job completed\n",
      "Training seconds: 85\n",
      "Billable seconds: 85\n"
     ]
    }
   ],
   "source": [
    "from datetime import datetime\n",
    "import sagemaker\n",
    "from sagemaker.amazon.amazon_estimator import get_image_uri\n",
    "from sagemaker.estimator import Estimator\n",
    "\n",
    "ROLE = 'arn:aws:iam::090554204572:role/service-role/AmazonSageMaker-ExecutionRole-20190610T164237'\n",
    "REGION = 'eu-west-1'\n",
    "TRAINING_JOB_NAME = 'ml-in-production-madrid-sgemaker-api'\n",
    "\n",
    "train_channel = sagemaker.session.s3_input(s3_train, content_type='text/csv')\n",
    "valid_channel = sagemaker.session.s3_input(s3_validation, content_type='text/csv')\n",
    "\n",
    "data_channels = {'train': train_channel, \n",
    "                 'validation': valid_channel}\n",
    "\n",
    "container = get_image_uri(REGION, 'xgboost', '0.90-1')\n",
    "\n",
    "xgb_model = Estimator(container,\n",
    "                      ROLE, \n",
    "                      train_instance_count=1, \n",
    "                      train_instance_type='ml.m4.xlarge',\n",
    "                      train_volume_size = 5,\n",
    "                      output_path=s3_model_output,\n",
    "                      sagemaker_session=sagemaker.Session()\n",
    "                     )\n",
    "\n",
    "xgb_model.set_hyperparameters(max_depth = 4,\n",
    "                              eta = .2,\n",
    "                              gamma = 4,\n",
    "                              min_child_weight = 8,\n",
    "                              silent = 0,\n",
    "                              objective = \"reg:linear\",\n",
    "                              num_round = 8)\n",
    "\n",
    "xgb_model.fit(inputs=data_channels, \n",
    "              logs=True, \n",
    "              job_name=TRAINING_JOB_NAME + \\\n",
    "              '-' + datetime.now().strftime(\"%Y-%m-%d-%H-%M-%S\")\n",
    ")"
   ]
  },
  {
   "cell_type": "markdown",
   "metadata": {},
   "source": [
    "## 5. train model with boto3 api"
   ]
  },
  {
   "cell_type": "markdown",
   "metadata": {},
   "source": [
    "a training job can be created using boto3 __and not sagemaker api__. a dictionary with all details must be specified:"
   ]
  },
  {
   "cell_type": "code",
   "execution_count": 23,
   "metadata": {},
   "outputs": [
    {
     "name": "stdout",
     "output_type": "stream",
     "text": [
      "InProgress\n",
      "InProgress\n",
      "InProgress\n",
      "InProgress\n",
      "InProgress\n",
      "InProgress\n",
      "InProgress\n",
      "InProgress\n",
      "InProgress\n",
      "Completed\n"
     ]
    }
   ],
   "source": [
    "import boto3\n",
    "import time\n",
    "\n",
    "TRAINING_JOB_NAME = 'ml-in-production-madrid-boto3-api' \\\n",
    "                    + '-' + datetime.now().strftime(\"%Y-%m-%d-%H-%M-%S\")\n",
    "\n",
    "create_training_params = \\\n",
    "{\n",
    "    \"AlgorithmSpecification\": {\n",
    "        \"TrainingImage\": container,\n",
    "        \"TrainingInputMode\": \"File\"\n",
    "    },\n",
    "    \"RoleArn\": ROLE,\n",
    "    \"OutputDataConfig\": {\n",
    "        \"S3OutputPath\": s3_model_output\n",
    "    },\n",
    "    \"ResourceConfig\": {\n",
    "        \"InstanceCount\": 1,\n",
    "        \"InstanceType\": \"ml.m4.4xlarge\",\n",
    "        \"VolumeSizeInGB\": 5\n",
    "    },\n",
    "    \"TrainingJobName\": TRAINING_JOB_NAME,\n",
    "    \"HyperParameters\": {\n",
    "        \"max_depth\":\"4\",\n",
    "        \"eta\":\"0.2\",\n",
    "        \"gamma\":\"4\",\n",
    "        \"min_child_weight\":\"4\",\n",
    "        \"subsample\":\"0.7\",\n",
    "        \"silent\":\"0\",\n",
    "        \"objective\":\"reg:linear\",\n",
    "        \"num_round\":\"8\"\n",
    "    },\n",
    "    \"StoppingCondition\": {\n",
    "        \"MaxRuntimeInSeconds\": 3600\n",
    "    },\n",
    "    \"InputDataConfig\": [\n",
    "        {\n",
    "            \"ChannelName\": \"train\",\n",
    "            \"DataSource\": {\n",
    "                \"S3DataSource\": {\n",
    "                    \"S3DataType\": \"S3Prefix\",\n",
    "                    \"S3Uri\": s3_train,\n",
    "                    \"S3DataDistributionType\": \"FullyReplicated\"\n",
    "                }\n",
    "            },\n",
    "            \"ContentType\": \"text/csv\",\n",
    "            \"CompressionType\": \"None\"\n",
    "        },\n",
    "        {\n",
    "            \"ChannelName\": \"validation\",\n",
    "            \"DataSource\": {\n",
    "                \"S3DataSource\": {\n",
    "                    \"S3DataType\": \"S3Prefix\",\n",
    "                    \"S3Uri\": s3_validation,\n",
    "                    \"S3DataDistributionType\": \"FullyReplicated\"\n",
    "                }\n",
    "            },\n",
    "            \"ContentType\": \"text/csv\",\n",
    "            \"CompressionType\": \"None\"\n",
    "        }\n",
    "    ]\n",
    "}\n",
    "\n",
    "client = boto3.client('sagemaker', region_name=REGION)\n",
    "client.create_training_job(**create_training_params)\n",
    "status = client.describe_training_job(TrainingJobName=TRAINING_JOB_NAME)['TrainingJobStatus']\n",
    "\n",
    "# this loop will query status until completed, there is no more info available, go to aws console for more...\n",
    "while status !='Completed' and status!='Failed':\n",
    "    time.sleep(16)\n",
    "    status = client.describe_training_job(TrainingJobName=TRAINING_JOB_NAME)['TrainingJobStatus']\n",
    "    logger.info('training job created with boto3 api is:' + status)"
   ]
  },
  {
   "cell_type": "markdown",
   "metadata": {},
   "source": [
    "## 6. serving model with sagemaker api"
   ]
  },
  {
   "cell_type": "markdown",
   "metadata": {},
   "source": [
    "to deploy a model and create an endpoint using sagemaker api, `deploy` method of sagemaker estimator can be used. takes some time... go grab some cofee!"
   ]
  },
  {
   "cell_type": "code",
   "execution_count": 26,
   "metadata": {},
   "outputs": [],
   "source": [
    "ENDPOINT_NAME = 'ml-in-production-madrid-sagemaker-api-endpoint'\n",
    "MODEL_NAME = 'ml-in-production-madrid-sagemaker-api-model'\n",
    "\n",
    "xgb_predictor = xgb_model.deploy(initial_instance_count=1,\n",
    "                                 instance_type='ml.t2.medium',\n",
    "                                 endpoint_name=ENDPOINT_NAME,\n",
    "                                 model_name=MODEL_NAME)"
   ]
  },
  {
   "cell_type": "markdown",
   "metadata": {},
   "source": [
    "## 7. serving model with boto3 api"
   ]
  },
  {
   "cell_type": "markdown",
   "metadata": {},
   "source": [
    "not straightforward, involves 3 steps, too low level to explain here, does not worth the pain having sagemaker api and mlflow... let's try mlflow with an sklearn model instead :-D"
   ]
  },
  {
   "cell_type": "markdown",
   "metadata": {},
   "source": [
    "## 8. invoking endpoint (just boto3 api option)"
   ]
  },
  {
   "cell_type": "code",
   "execution_count": 27,
   "metadata": {},
   "outputs": [
    {
     "name": "stderr",
     "output_type": "stream",
     "text": [
      "2019-09-26 14:08:13,386 - root - INFO - getting a sample of 100 elements from test split\n",
      "2019-09-26 14:08:13,498 - root - INFO - calling endpoint...\n"
     ]
    },
    {
     "data": {
      "text/plain": [
       "{'ResponseMetadata': {'RequestId': '047786de-f29f-484e-8b60-556d2f5c72d5',\n",
       "  'HTTPStatusCode': 200,\n",
       "  'HTTPHeaders': {'x-amzn-requestid': '047786de-f29f-484e-8b60-556d2f5c72d5',\n",
       "   'x-amzn-invoked-production-variant': 'AllTraffic',\n",
       "   'date': 'Thu, 26 Sep 2019 14:08:14 GMT',\n",
       "   'content-type': 'text/csv; charset=utf-8',\n",
       "   'content-length': '1842'},\n",
       "  'RetryAttempts': 0},\n",
       " 'ContentType': 'text/csv; charset=utf-8',\n",
       " 'InvokedProductionVariant': 'AllTraffic',\n",
       " 'Body': <botocore.response.StreamingBody at 0x7f8cfc9ac690>}"
      ]
     },
     "metadata": {},
     "output_type": "display_data"
    }
   ],
   "source": [
    "runtime = boto3.client('runtime.sagemaker')\n",
    "\n",
    "logger.info('getting a sample of 100 elements from test split')\n",
    "test_sample = renfe_test.sample(100)\n",
    "\n",
    "logger.info('calling endpoint...')\n",
    "response = runtime.invoke_endpoint(EndpointName=ENDPOINT_NAME,\n",
    "                                   Body=test_sample[features].to_csv(header=False, index=False))  # data must be passed as .csv (string)\n",
    "display(response)\n",
    "y_pred = list(map(lambda x: float(x), response['Body'].read().decode().split(',')))  # result is a string and must be parsed"
   ]
  },
  {
   "cell_type": "markdown",
   "metadata": {},
   "source": [
    "let's compare result with reality:"
   ]
  },
  {
   "cell_type": "code",
   "execution_count": 32,
   "metadata": {},
   "outputs": [
    {
     "name": "stderr",
     "output_type": "stream",
     "text": [
      "2019-09-26 14:10:12,971 - root - INFO - mae for xbgoost model is: 11.515720779418944\n"
     ]
    },
    {
     "data": {
      "text/html": [
       "<div>\n",
       "<style scoped>\n",
       "    .dataframe tbody tr th:only-of-type {\n",
       "        vertical-align: middle;\n",
       "    }\n",
       "\n",
       "    .dataframe tbody tr th {\n",
       "        vertical-align: top;\n",
       "    }\n",
       "\n",
       "    .dataframe thead th {\n",
       "        text-align: right;\n",
       "    }\n",
       "</style>\n",
       "<table border=\"1\" class=\"dataframe\">\n",
       "  <thead>\n",
       "    <tr style=\"text-align: right;\">\n",
       "      <th></th>\n",
       "      <th>y_true</th>\n",
       "      <th>y_pred</th>\n",
       "    </tr>\n",
       "  </thead>\n",
       "  <tbody>\n",
       "    <tr>\n",
       "      <td>668489</td>\n",
       "      <td>49.55</td>\n",
       "      <td>62.541649</td>\n",
       "    </tr>\n",
       "    <tr>\n",
       "      <td>9449386</td>\n",
       "      <td>45.80</td>\n",
       "      <td>38.042965</td>\n",
       "    </tr>\n",
       "    <tr>\n",
       "      <td>586448</td>\n",
       "      <td>85.10</td>\n",
       "      <td>62.541649</td>\n",
       "    </tr>\n",
       "    <tr>\n",
       "      <td>1431351</td>\n",
       "      <td>45.30</td>\n",
       "      <td>34.568508</td>\n",
       "    </tr>\n",
       "    <tr>\n",
       "      <td>2338501</td>\n",
       "      <td>85.10</td>\n",
       "      <td>62.541649</td>\n",
       "    </tr>\n",
       "    <tr>\n",
       "      <td>...</td>\n",
       "      <td>...</td>\n",
       "      <td>...</td>\n",
       "    </tr>\n",
       "    <tr>\n",
       "      <td>5341749</td>\n",
       "      <td>28.35</td>\n",
       "      <td>24.286119</td>\n",
       "    </tr>\n",
       "    <tr>\n",
       "      <td>354498</td>\n",
       "      <td>100.40</td>\n",
       "      <td>61.160225</td>\n",
       "    </tr>\n",
       "    <tr>\n",
       "      <td>8479041</td>\n",
       "      <td>85.10</td>\n",
       "      <td>62.541649</td>\n",
       "    </tr>\n",
       "    <tr>\n",
       "      <td>6837888</td>\n",
       "      <td>76.30</td>\n",
       "      <td>67.757019</td>\n",
       "    </tr>\n",
       "    <tr>\n",
       "      <td>1672585</td>\n",
       "      <td>21.95</td>\n",
       "      <td>34.568508</td>\n",
       "    </tr>\n",
       "  </tbody>\n",
       "</table>\n",
       "<p>100 rows × 2 columns</p>\n",
       "</div>"
      ],
      "text/plain": [
       "         y_true     y_pred\n",
       "668489    49.55  62.541649\n",
       "9449386   45.80  38.042965\n",
       "586448    85.10  62.541649\n",
       "1431351   45.30  34.568508\n",
       "2338501   85.10  62.541649\n",
       "...         ...        ...\n",
       "5341749   28.35  24.286119\n",
       "354498   100.40  61.160225\n",
       "8479041   85.10  62.541649\n",
       "6837888   76.30  67.757019\n",
       "1672585   21.95  34.568508\n",
       "\n",
       "[100 rows x 2 columns]"
      ]
     },
     "metadata": {},
     "output_type": "display_data"
    }
   ],
   "source": [
    "from sklearn.metrics import mean_absolute_error\n",
    "y_true = test_sample['price']\n",
    "logger.info(f\"mae for xbgoost model is: {mean_absolute_error(y_true=y_true, y_pred=y_pred)}\")\n",
    "\n",
    "display(pd.DataFrame({'y_true': y_true, 'y_pred': y_pred}))"
   ]
  },
  {
   "cell_type": "markdown",
   "metadata": {},
   "source": [
    "## 9. deploy model using mlflow the easy way (sklearn version)"
   ]
  },
  {
   "cell_type": "code",
   "execution_count": 54,
   "metadata": {},
   "outputs": [
    {
     "name": "stderr",
     "output_type": "stream",
     "text": [
      "[Parallel(n_jobs=32)]: Using backend ThreadingBackend with 32 concurrent workers.\n",
      "[Parallel(n_jobs=32)]: Done 136 tasks      | elapsed:  2.7min\n",
      "[Parallel(n_jobs=32)]: Done 256 out of 256 | elapsed:  4.4min finished\n"
     ]
    },
    {
     "data": {
      "text/plain": [
       "RandomForestRegressor(bootstrap=True, criterion='mse', max_depth=8,\n",
       "                      max_features='auto', max_leaf_nodes=None,\n",
       "                      min_impurity_decrease=0.0, min_impurity_split=None,\n",
       "                      min_samples_leaf=1, min_samples_split=2,\n",
       "                      min_weight_fraction_leaf=0.0, n_estimators=256, n_jobs=32,\n",
       "                      oob_score=False, random_state=None, verbose=1,\n",
       "                      warm_start=False)"
      ]
     },
     "execution_count": 54,
     "metadata": {},
     "output_type": "execute_result"
    }
   ],
   "source": [
    "from sklearn.ensemble import RandomForestRegressor\n",
    "\n",
    "X = renfe_train[features]\n",
    "y = renfe_train[target]\n",
    "\n",
    "rf = RandomForestRegressor(n_estimators=256, \n",
    "                           n_jobs=32,  # adapt to your processor(s)\n",
    "                           verbose=1,\n",
    "                           max_depth=8)  # limit max depth to keep serialized model under 100MB (or it will be unable to deploy in AWS)\n",
    "rf.fit(X, y)"
   ]
  },
  {
   "cell_type": "markdown",
   "metadata": {},
   "source": [
    "check results for this model:"
   ]
  },
  {
   "cell_type": "code",
   "execution_count": 57,
   "metadata": {},
   "outputs": [
    {
     "name": "stderr",
     "output_type": "stream",
     "text": [
      "[Parallel(n_jobs=32)]: Using backend ThreadingBackend with 32 concurrent workers.\n",
      "[Parallel(n_jobs=32)]: Done 136 tasks      | elapsed:    0.1s\n",
      "[Parallel(n_jobs=32)]: Done 256 out of 256 | elapsed:    0.1s finished\n",
      "2019-09-26 14:55:48,768 - root - INFO - mae for xbgoost model is: 6.751278555302093\n"
     ]
    },
    {
     "data": {
      "text/html": [
       "<div>\n",
       "<style scoped>\n",
       "    .dataframe tbody tr th:only-of-type {\n",
       "        vertical-align: middle;\n",
       "    }\n",
       "\n",
       "    .dataframe tbody tr th {\n",
       "        vertical-align: top;\n",
       "    }\n",
       "\n",
       "    .dataframe thead th {\n",
       "        text-align: right;\n",
       "    }\n",
       "</style>\n",
       "<table border=\"1\" class=\"dataframe\">\n",
       "  <thead>\n",
       "    <tr style=\"text-align: right;\">\n",
       "      <th></th>\n",
       "      <th>y_true</th>\n",
       "      <th>y_pred</th>\n",
       "    </tr>\n",
       "  </thead>\n",
       "  <tbody>\n",
       "    <tr>\n",
       "      <td>668489</td>\n",
       "      <td>49.55</td>\n",
       "      <td>75.643374</td>\n",
       "    </tr>\n",
       "    <tr>\n",
       "      <td>9449386</td>\n",
       "      <td>45.80</td>\n",
       "      <td>45.800000</td>\n",
       "    </tr>\n",
       "    <tr>\n",
       "      <td>586448</td>\n",
       "      <td>85.10</td>\n",
       "      <td>75.643374</td>\n",
       "    </tr>\n",
       "    <tr>\n",
       "      <td>1431351</td>\n",
       "      <td>45.30</td>\n",
       "      <td>42.568147</td>\n",
       "    </tr>\n",
       "    <tr>\n",
       "      <td>2338501</td>\n",
       "      <td>85.10</td>\n",
       "      <td>75.643374</td>\n",
       "    </tr>\n",
       "    <tr>\n",
       "      <td>...</td>\n",
       "      <td>...</td>\n",
       "      <td>...</td>\n",
       "    </tr>\n",
       "    <tr>\n",
       "      <td>5341749</td>\n",
       "      <td>28.35</td>\n",
       "      <td>28.350000</td>\n",
       "    </tr>\n",
       "    <tr>\n",
       "      <td>354498</td>\n",
       "      <td>100.40</td>\n",
       "      <td>94.133290</td>\n",
       "    </tr>\n",
       "    <tr>\n",
       "      <td>8479041</td>\n",
       "      <td>85.10</td>\n",
       "      <td>75.643374</td>\n",
       "    </tr>\n",
       "    <tr>\n",
       "      <td>6837888</td>\n",
       "      <td>76.30</td>\n",
       "      <td>76.984304</td>\n",
       "    </tr>\n",
       "    <tr>\n",
       "      <td>1672585</td>\n",
       "      <td>21.95</td>\n",
       "      <td>35.448023</td>\n",
       "    </tr>\n",
       "  </tbody>\n",
       "</table>\n",
       "<p>100 rows × 2 columns</p>\n",
       "</div>"
      ],
      "text/plain": [
       "         y_true     y_pred\n",
       "668489    49.55  75.643374\n",
       "9449386   45.80  45.800000\n",
       "586448    85.10  75.643374\n",
       "1431351   45.30  42.568147\n",
       "2338501   85.10  75.643374\n",
       "...         ...        ...\n",
       "5341749   28.35  28.350000\n",
       "354498   100.40  94.133290\n",
       "8479041   85.10  75.643374\n",
       "6837888   76.30  76.984304\n",
       "1672585   21.95  35.448023\n",
       "\n",
       "[100 rows x 2 columns]"
      ]
     },
     "metadata": {},
     "output_type": "display_data"
    }
   ],
   "source": [
    "y_pred=rf.predict(test_sample[features])\n",
    "y_true=test_sample['price']\n",
    "\n",
    "logger.info(f\"mae for xbgoost model is: {mean_absolute_error(y_true=y_true, y_pred=y_pred)}\")\n",
    "\n",
    "display(pd.DataFrame({'y_true': y_true, 'y_pred': y_pred}))"
   ]
  },
  {
   "cell_type": "code",
   "execution_count": 39,
   "metadata": {},
   "outputs": [
    {
     "name": "stderr",
     "output_type": "stream",
     "text": [
      "2019-09-26 14:23:43,825 - root - INFO - model saved!\n"
     ]
    }
   ],
   "source": [
    "import mlflow.sklearn\n",
    "\n",
    "MODEL_PATH = '../output/price_pred_model'\n",
    "!rm -rf $MODEL_PATH  # '!' can be used to execute bash commands in jupyter cells\n",
    "\n",
    "mlflow.sklearn.save_model(sk_model=rf, path=MODEL_PATH)\n",
    "logger.info(\"model saved!\")"
   ]
  },
  {
   "cell_type": "markdown",
   "metadata": {},
   "source": [
    "using `mlflow.sagemaker` module, this model can be deployed directly in AWS, with just one line of code..."
   ]
  },
  {
   "cell_type": "code",
   "execution_count": 46,
   "metadata": {},
   "outputs": [
    {
     "name": "stderr",
     "output_type": "stream",
     "text": [
      "2019/09/26 14:30:53 INFO mlflow.sagemaker: Using the python_function flavor for deployment!\n",
      "2019/09/26 14:30:54 INFO mlflow.sagemaker: tag response: {'ResponseMetadata': {'RequestId': 'D677046E82A7F687', 'HostId': '/Pz7uHFsEwkCO7dIjL+VZie+kqgRZBZ3mtseIIj8RCzShyVD8+o8rlyspi8Ka4+LvQQdnpRq9ew=', 'HTTPStatusCode': 200, 'HTTPHeaders': {'x-amz-id-2': '/Pz7uHFsEwkCO7dIjL+VZie+kqgRZBZ3mtseIIj8RCzShyVD8+o8rlyspi8Ka4+LvQQdnpRq9ew=', 'x-amz-request-id': 'D677046E82A7F687', 'date': 'Thu, 26 Sep 2019 14:30:55 GMT', 'content-length': '0', 'server': 'AmazonS3'}, 'RetryAttempts': 0}}\n",
      "2019/09/26 14:30:54 INFO mlflow.sagemaker: Creating new endpoint with name: ml-in-prod-mad-mlf-api-ep ...\n",
      "2019/09/26 14:30:54 INFO mlflow.sagemaker: Created model with arn: arn:aws:sagemaker:eu-west-1:090554204572:model/ml-in-prod-mad-mlf-api-ep-model-tkd7gkgbsj6tshwhvjp2cw\n",
      "2019/09/26 14:30:54 INFO mlflow.sagemaker: Created endpoint configuration with arn: arn:aws:sagemaker:eu-west-1:090554204572:endpoint-config/ml-in-prod-mad-mlf-api-ep-config-bb4rjblctcivhckd9guywg\n",
      "2019/09/26 14:30:55 INFO mlflow.sagemaker: Created endpoint with arn: arn:aws:sagemaker:eu-west-1:090554204572:endpoint/ml-in-prod-mad-mlf-api-ep\n",
      "2019/09/26 14:30:55 INFO mlflow.sagemaker: Waiting for the deployment operation to complete...\n",
      "2019/09/26 14:30:55 INFO mlflow.sagemaker: Waiting for endpoint to reach the \"InService\" state. Current endpoint status: \"Creating\"\n",
      "2019/09/26 14:31:15 INFO mlflow.sagemaker: Waiting for endpoint to reach the \"InService\" state. Current endpoint status: \"Creating\"\n",
      "2019/09/26 14:31:35 INFO mlflow.sagemaker: Waiting for endpoint to reach the \"InService\" state. Current endpoint status: \"Creating\"\n",
      "2019/09/26 14:31:56 INFO mlflow.sagemaker: Waiting for endpoint to reach the \"InService\" state. Current endpoint status: \"Creating\"\n",
      "2019/09/26 14:32:16 INFO mlflow.sagemaker: Waiting for endpoint to reach the \"InService\" state. Current endpoint status: \"Creating\"\n",
      "2019/09/26 14:32:36 INFO mlflow.sagemaker: Waiting for endpoint to reach the \"InService\" state. Current endpoint status: \"Creating\"\n",
      "2019/09/26 14:32:57 INFO mlflow.sagemaker: Waiting for endpoint to reach the \"InService\" state. Current endpoint status: \"Creating\"\n",
      "2019/09/26 14:33:17 INFO mlflow.sagemaker: Waiting for endpoint to reach the \"InService\" state. Current endpoint status: \"Creating\"\n",
      "2019/09/26 14:33:37 INFO mlflow.sagemaker: Waiting for endpoint to reach the \"InService\" state. Current endpoint status: \"Creating\"\n",
      "2019/09/26 14:33:58 INFO mlflow.sagemaker: Waiting for endpoint to reach the \"InService\" state. Current endpoint status: \"Creating\"\n",
      "2019/09/26 14:34:18 INFO mlflow.sagemaker: Waiting for endpoint to reach the \"InService\" state. Current endpoint status: \"Creating\"\n",
      "2019/09/26 14:34:38 INFO mlflow.sagemaker: Waiting for endpoint to reach the \"InService\" state. Current endpoint status: \"Creating\"\n",
      "2019/09/26 14:34:59 INFO mlflow.sagemaker: Waiting for endpoint to reach the \"InService\" state. Current endpoint status: \"Creating\"\n",
      "2019/09/26 14:35:19 INFO mlflow.sagemaker: Waiting for endpoint to reach the \"InService\" state. Current endpoint status: \"Creating\"\n",
      "2019/09/26 14:35:39 INFO mlflow.sagemaker: Waiting for endpoint to reach the \"InService\" state. Current endpoint status: \"Creating\"\n",
      "2019/09/26 14:35:59 INFO mlflow.sagemaker: Waiting for endpoint to reach the \"InService\" state. Current endpoint status: \"Creating\"\n",
      "2019/09/26 14:36:20 INFO mlflow.sagemaker: Waiting for endpoint to reach the \"InService\" state. Current endpoint status: \"Creating\"\n",
      "2019/09/26 14:36:40 INFO mlflow.sagemaker: Waiting for endpoint to reach the \"InService\" state. Current endpoint status: \"Creating\"\n",
      "2019/09/26 14:37:00 INFO mlflow.sagemaker: Waiting for endpoint to reach the \"InService\" state. Current endpoint status: \"Creating\"\n",
      "2019/09/26 14:37:21 INFO mlflow.sagemaker: Waiting for endpoint to reach the \"InService\" state. Current endpoint status: \"Creating\"\n",
      "2019/09/26 14:37:41 INFO mlflow.sagemaker: Waiting for endpoint to reach the \"InService\" state. Current endpoint status: \"Creating\"\n",
      "2019/09/26 14:38:01 INFO mlflow.sagemaker: Waiting for endpoint to reach the \"InService\" state. Current endpoint status: \"Creating\"\n",
      "2019/09/26 14:38:21 INFO mlflow.sagemaker: Waiting for endpoint to reach the \"InService\" state. Current endpoint status: \"Creating\"\n",
      "2019/09/26 14:38:42 INFO mlflow.sagemaker: Waiting for endpoint to reach the \"InService\" state. Current endpoint status: \"Creating\"\n",
      "2019/09/26 14:39:02 INFO mlflow.sagemaker: Waiting for endpoint to reach the \"InService\" state. Current endpoint status: \"Creating\"\n",
      "2019/09/26 14:39:22 INFO mlflow.sagemaker: Waiting for endpoint to reach the \"InService\" state. Current endpoint status: \"Creating\"\n",
      "2019/09/26 14:39:43 INFO mlflow.sagemaker: Waiting for endpoint to reach the \"InService\" state. Current endpoint status: \"Creating\"\n",
      "2019/09/26 14:40:03 INFO mlflow.sagemaker: Waiting for endpoint to reach the \"InService\" state. Current endpoint status: \"Creating\"\n",
      "2019/09/26 14:40:08 INFO mlflow.sagemaker: The deployment operation completed successfully with message: \"The SageMaker endpoint was created successfully.\"\n"
     ]
    }
   ],
   "source": [
    "import mlflow.sagemaker\n",
    "\n",
    "ENDPOINT_NAME = 'ml-in-prod-mad-mlf-api-ep'\n",
    "\n",
    "mlflow.sagemaker.deploy(app_name=ENDPOINT_NAME, \n",
    "                         model_uri=MODEL_PATH, \n",
    "                         execution_role_arn=ROLE, \n",
    "                         bucket=BUCKET,\n",
    "                         region_name=REGION, \n",
    "                         mode='create',  # try 'replace'\n",
    "                         instance_type='ml.t2.medium', \n",
    "                         instance_count=1)"
   ]
  },
  {
   "cell_type": "markdown",
   "metadata": {},
   "source": [
    "endpoint can be invoked the usual way, using boto3. authenticating against aws using plain curl or requests is much harder than just store its credentials and using aws sdk:"
   ]
  },
  {
   "cell_type": "code",
   "execution_count": null,
   "metadata": {},
   "outputs": [],
   "source": [
    "import json\n",
    "response = runtime.invoke_endpoint(EndpointName=ENDPOINT_NAME,\n",
    "                                   ContentType='application/json',\n",
    "                                   Body=test_sample[features].to_json(orient='split'))\n",
    "\n",
    "y_pred = json.loads(response['Body'].read().decode())\n",
    "y_true = test_sample[target]\n",
    "\n",
    "logger.info(f\"mae for xbgoost model is: {mean_absolute_error(y_true=y_true, y_pred=y_pred)}\")\n",
    "\n",
    "display(pd.DataFrame({'y_true': y_true, 'y_pred': y_pred}))"
   ]
  },
  {
   "cell_type": "markdown",
   "metadata": {},
   "source": [
    "## 10. references"
   ]
  },
  {
   "cell_type": "markdown",
   "metadata": {},
   "source": [
    "- https://www.mlflow.org/docs/latest/models.html#built-in-deployment-tools\n",
    "- https://aws.amazon.com/sagemaker/features/"
   ]
  }
 ],
 "metadata": {
  "kernelspec": {
   "display_name": "Python 3",
   "language": "python",
   "name": "python3"
  },
  "language_info": {
   "codemirror_mode": {
    "name": "ipython",
    "version": 3
   },
   "file_extension": ".py",
   "mimetype": "text/x-python",
   "name": "python",
   "nbconvert_exporter": "python",
   "pygments_lexer": "ipython3",
   "version": "3.7.4"
  }
 },
 "nbformat": 4,
 "nbformat_minor": 4
}
